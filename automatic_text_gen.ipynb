{
  "nbformat": 4,
  "nbformat_minor": 0,
  "metadata": {
    "colab": {
      "name": "automatic_text_gen",
      "provenance": []
    },
    "kernelspec": {
      "name": "python3",
      "display_name": "Python 3"
    }
  },
  "cells": [
    {
      "cell_type": "code",
      "metadata": {
        "id": "qcynYLf17vde",
        "colab_type": "code",
        "colab": {}
      },
      "source": [
        "import tensorflow as tf\n",
        "import string\n",
        "import requests"
      ],
      "execution_count": 1,
      "outputs": []
    },
    {
      "cell_type": "code",
      "metadata": {
        "id": "o3l9aSi676oM",
        "colab_type": "code",
        "colab": {}
      },
      "source": [
        " response=requests.get('put link')"
      ],
      "execution_count": 81,
      "outputs": []
    },
    {
      "cell_type": "code",
      "metadata": {
        "id": "V-sn2Tsi8u0U",
        "colab_type": "code",
        "colab": {}
      },
      "source": [
        "response"
      ],
      "execution_count": null,
      "outputs": []
    },
    {
      "cell_type": "code",
      "metadata": {
        "id": "oIEthOod8_qj",
        "colab_type": "code",
        "colab": {}
      },
      "source": [
        "response.text"
      ],
      "execution_count": null,
      "outputs": []
    },
    {
      "cell_type": "code",
      "metadata": {
        "id": "26uk7R8I5_HD",
        "colab_type": "code",
        "colab": {}
      },
      "source": [
        "data=response.text.split('\\n')\n",
        "data[1]"
      ],
      "execution_count": null,
      "outputs": []
    },
    {
      "cell_type": "code",
      "metadata": {
        "id": "3QBc_KwN6MRJ",
        "colab_type": "code",
        "colab": {}
      },
      "source": [
        "data=data[253:]\n",
        "data"
      ],
      "execution_count": null,
      "outputs": []
    },
    {
      "cell_type": "code",
      "metadata": {
        "id": "2gZPj_yp5q7o",
        "colab_type": "code",
        "colab": {}
      },
      "source": [
        "data=\" \".join(data)"
      ],
      "execution_count": 86,
      "outputs": []
    },
    {
      "cell_type": "code",
      "metadata": {
        "id": "6MoPI6ak6bJB",
        "colab_type": "code",
        "colab": {}
      },
      "source": [
        "data[200:]"
      ],
      "execution_count": null,
      "outputs": []
    },
    {
      "cell_type": "code",
      "metadata": {
        "id": "Z8WBmhba52jj",
        "colab_type": "code",
        "colab": {}
      },
      "source": [
        "len(data)"
      ],
      "execution_count": null,
      "outputs": []
    },
    {
      "cell_type": "code",
      "metadata": {
        "id": "Z1N0zKhJ6zsv",
        "colab_type": "code",
        "colab": {}
      },
      "source": [
        "def clean_text(doc):\n",
        " tokens=doc.split()\n",
        " table=str.maketrans('','',string.punctuation)\n",
        " tokens=[w.translate(table) for w in tokens]\n",
        " tokens=[word for word in  tokens if word.isalpha()]\n",
        " tokens=[word.lower for word in tokens]\n",
        " return tokens"
      ],
      "execution_count": 89,
      "outputs": []
    },
    {
      "cell_type": "code",
      "metadata": {
        "id": "4ID2x3K18OT1",
        "colab_type": "code",
        "colab": {}
      },
      "source": [
        "tokens=clean_text(data)\n",
        "print(tokens[300:])"
      ],
      "execution_count": null,
      "outputs": []
    },
    {
      "cell_type": "code",
      "metadata": {
        "id": "kE9m6oDn70Jy",
        "colab_type": "code",
        "colab": {}
      },
      "source": [
        "len(tokens)"
      ],
      "execution_count": null,
      "outputs": []
    },
    {
      "cell_type": "code",
      "metadata": {
        "id": "runGK3Tg90cC",
        "colab_type": "code",
        "colab": {}
      },
      "source": [
        "len(set(tokens))"
      ],
      "execution_count": null,
      "outputs": []
    },
    {
      "cell_type": "code",
      "metadata": {
        "id": "EXZFwoB498cV",
        "colab_type": "code",
        "colab": {}
      },
      "source": [
        "length=50 + 1\n",
        "lines=[]\n",
        "\n",
        "for i in range(length,len(tokens)):\n",
        "  seq=tokens[i-length:i]\n",
        "  line= ','.join(str(v) for v in seq)\n",
        "  lines.append(line)\n",
        "  if i > 200:\n",
        "    break\n",
        "\n",
        "print(len(lines))"
      ],
      "execution_count": null,
      "outputs": []
    },
    {
      "cell_type": "code",
      "metadata": {
        "id": "yGGodKeWApnn",
        "colab_type": "code",
        "colab": {}
      },
      "source": [
        "lines[1]"
      ],
      "execution_count": null,
      "outputs": []
    },
    {
      "cell_type": "code",
      "metadata": {
        "id": "Ov3ppyp1CVkF",
        "colab_type": "code",
        "colab": {}
      },
      "source": [
        "import numpy as np\n",
        "from tensorflow.keras.preprocessing.text import Tokenizer\n",
        "from tensorflow.keras.utils import to_categorical\n",
        "from tensorflow.keras.models import Sequential\n",
        "from tensorflow.keras.layers import Dense,LSTM,Embedding\n",
        "from tensorflow.keras.preprocessing.sequence import pad_sequences"
      ],
      "execution_count": 93,
      "outputs": []
    },
    {
      "cell_type": "code",
      "metadata": {
        "id": "Siz0szf3DHsL",
        "colab_type": "code",
        "colab": {}
      },
      "source": [
        "tokenizer=Tokenizer()\n",
        "tokenizer.fit_on_texts(lines)\n",
        "sequences=tokenizer.texts_to_sequences(lines)"
      ],
      "execution_count": 94,
      "outputs": []
    },
    {
      "cell_type": "code",
      "metadata": {
        "id": "jx73qoPiD7aB",
        "colab_type": "code",
        "colab": {}
      },
      "source": [
        "sequences=np.array(sequences)\n",
        "X,y=sequences[:, :-1],sequences[:,-1]"
      ],
      "execution_count": 95,
      "outputs": []
    },
    {
      "cell_type": "code",
      "metadata": {
        "id": "k3312iKeEoHQ",
        "colab_type": "code",
        "colab": {}
      },
      "source": [
        "X[0]"
      ],
      "execution_count": null,
      "outputs": []
    },
    {
      "cell_type": "code",
      "metadata": {
        "id": "8z4RRukPEqDI",
        "colab_type": "code",
        "colab": {}
      },
      "source": [
        "y[0]"
      ],
      "execution_count": null,
      "outputs": []
    },
    {
      "cell_type": "code",
      "metadata": {
        "id": "hqWH4zSXFGZd",
        "colab_type": "code",
        "colab": {}
      },
      "source": [
        "vocab_size=len(tokenizer.word_index) + 1"
      ],
      "execution_count": 97,
      "outputs": []
    },
    {
      "cell_type": "code",
      "metadata": {
        "id": "ZrOpc23nEtqp",
        "colab_type": "code",
        "colab": {}
      },
      "source": [
        "y=to_categorical(y,num_classes=vocab_size)\n",
        "X.shape[1]"
      ],
      "execution_count": null,
      "outputs": []
    },
    {
      "cell_type": "code",
      "metadata": {
        "id": "D207eKomFjeC",
        "colab_type": "code",
        "colab": {}
      },
      "source": [
        "seq_length=X.shape[1]"
      ],
      "execution_count": 99,
      "outputs": []
    },
    {
      "cell_type": "code",
      "metadata": {
        "id": "DPP0v_wvFpWA",
        "colab_type": "code",
        "colab": {}
      },
      "source": [
        "model=Sequential()\n",
        "model.add(Embedding(vocab_size,50,input_length=seq_length))\n",
        "model.add(LSTM(100,return_sequences=True))\n",
        "model.add(LSTM(100))\n",
        "model.add(Dense(100,activation='relu'))\n",
        "model.add(Dense(vocab_size,activation='softmax'))"
      ],
      "execution_count": 100,
      "outputs": []
    },
    {
      "cell_type": "code",
      "metadata": {
        "id": "lVz-L8l8Ga-0",
        "colab_type": "code",
        "colab": {}
      },
      "source": [
        "model.summary()"
      ],
      "execution_count": null,
      "outputs": []
    },
    {
      "cell_type": "code",
      "metadata": {
        "id": "Spbg9KhIGg_D",
        "colab_type": "code",
        "colab": {}
      },
      "source": [
        "model.compile(loss='categorical_crossentropy',optimizer='adam',metrics=['accuracy'])"
      ],
      "execution_count": 102,
      "outputs": []
    },
    {
      "cell_type": "code",
      "metadata": {
        "id": "PEMXrvpLOIsy",
        "colab_type": "code",
        "colab": {}
      },
      "source": [
        "model.fit(X,y,batch_size=5, epochs = 30)"
      ],
      "execution_count": null,
      "outputs": []
    },
    {
      "cell_type": "code",
      "metadata": {
        "id": "n9MW6dicIDW7",
        "colab_type": "code",
        "colab": {}
      },
      "source": [
        "def generate_text_seq(model,tokenizer,text_seq_length,seed_text,n_words):\n",
        "  text=[]\n",
        "  for _ in range(n_words):\n",
        "    encoded=tokenizer.texts_to_sequences([seed_text])[0]\n",
        "    encoded=pad_sequences([encoded],maxlen=text_seq_length,truncating='pre')\n",
        "    y_predict=model.predict_classes(encoded)\n",
        "    predicted_word=''\n",
        "    for word,index in tokenizer.word_index.items():\n",
        "      if index==y_predict:\n",
        "        predicted_word=word\n",
        "        break\n",
        "\n",
        "        seed_text=seed_text + ' '+ predicted_word\n",
        "        text.append(predicted_word)\n",
        "        return ' '.join(text)"
      ],
      "execution_count": 115,
      "outputs": []
    },
    {
      "cell_type": "code",
      "metadata": {
        "id": "K5gKX3yXJXbf",
        "colab_type": "code",
        "colab": {}
      },
      "source": [
        "generate_text_seq(model,tokenizer,seq_length,seed_text,100)"
      ],
      "execution_count": null,
      "outputs": []
    },
    {
      "cell_type": "code",
      "metadata": {
        "id": "4GHR9a3AMk7t",
        "colab_type": "code",
        "colab": {}
      },
      "source": [
        "seed_text"
      ],
      "execution_count": null,
      "outputs": []
    }
  ]
}