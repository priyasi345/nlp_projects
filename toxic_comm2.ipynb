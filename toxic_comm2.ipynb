{
  "nbformat": 4,
  "nbformat_minor": 0,
  "metadata": {
    "colab": {
      "name": "Untitled290.ipynb",
      "provenance": [],
      "authorship_tag": "ABX9TyPk/FM6kt34tNK/7e2LjSmC",
      "include_colab_link": true
    },
    "kernelspec": {
      "name": "python3",
      "display_name": "Python 3"
    },
    "accelerator": "GPU"
  },
  "cells": [
    {
      "cell_type": "markdown",
      "metadata": {
        "id": "view-in-github",
        "colab_type": "text"
      },
      "source": [
        "<a href=\"https://colab.research.google.com/github/priyasi345/nlp_projects/blob/master/toxic_comm2.ipynb\" target=\"_parent\"><img src=\"https://colab.research.google.com/assets/colab-badge.svg\" alt=\"Open In Colab\"/></a>"
      ]
    },
    {
      "cell_type": "code",
      "metadata": {
        "id": "lT9SqQePsvS2",
        "colab_type": "code",
        "colab": {
          "base_uri": "https://localhost:8080/",
          "height": 50
        },
        "outputId": "bdc86bce-bd6f-479e-d805-2c5b70175027"
      },
      "source": [
        "#import required packages\n",
        "#basics\n",
        "import pandas as pd \n",
        "import numpy as np\n",
        "\n",
        "#misc\n",
        "import gc\n",
        "import time\n",
        "import warnings\n",
        "\n",
        "#stats\n",
        "from scipy import misc\n",
        "from scipy import sparse\n",
        "import scipy.stats as ss\n",
        "\n",
        "#viz\n",
        "import matplotlib.pyplot as plt\n",
        "import matplotlib.gridspec as gridspec \n",
        "import seaborn as sns\n",
        "from wordcloud import WordCloud ,STOPWORDS\n",
        "from PIL import Image\n",
        "import matplotlib_venn as venn\n",
        "\n",
        "#nlp\n",
        "import string\n",
        "import re    #for regex\n",
        "import nltk\n",
        "from nltk.corpus import stopwords\n",
        "import spacy\n",
        "from nltk import pos_tag\n",
        "from nltk.stem.wordnet import WordNetLemmatizer \n",
        "from nltk.tokenize import word_tokenize\n",
        "# Tweet tokenizer does not split at apostophes which is what we want\n",
        "from nltk.tokenize import TweetTokenizer   \n",
        "\n",
        "\n",
        "#FeatureEngineering\n",
        "from sklearn.feature_extraction.text import TfidfVectorizer, CountVectorizer, HashingVectorizer\n",
        "from sklearn.decomposition import TruncatedSVD\n",
        "from sklearn.base import BaseEstimator, ClassifierMixin\n",
        "from sklearn.utils.validation import check_X_y, check_is_fitted\n",
        "from sklearn.linear_model import LogisticRegression\n",
        "from sklearn import metrics\n",
        "from sklearn.metrics import log_loss\n",
        "from sklearn.model_selection import StratifiedKFold\n",
        "from sklearn.model_selection import train_test_split\n",
        "#settings\n",
        "import nltk\n",
        "nltk.download('stopwords')\n",
        "start_time=time.time()\n",
        "color = sns.color_palette()\n",
        "sns.set_style(\"dark\")\n",
        "eng_stopwords = set(stopwords.words(\"english\"))\n",
        "warnings.filterwarnings(\"ignore\")\n",
        "\n",
        "lem = WordNetLemmatizer()\n",
        "tokenizer=TweetTokenizer()\n",
        "\n",
        "%matplotlib inline"
      ],
      "execution_count": 10,
      "outputs": [
        {
          "output_type": "stream",
          "text": [
            "[nltk_data] Downloading package stopwords to /root/nltk_data...\n",
            "[nltk_data]   Unzipping corpora/stopwords.zip.\n"
          ],
          "name": "stdout"
        }
      ]
    },
    {
      "cell_type": "code",
      "metadata": {
        "id": "dupPMXB7vPsV",
        "colab_type": "code",
        "colab": {}
      },
      "source": [
        "train = pd.read_csv('/content/train.csv')\n",
        "test = pd.read_csv('/content/test.csv')"
      ],
      "execution_count": 25,
      "outputs": []
    },
    {
      "cell_type": "code",
      "metadata": {
        "id": "x9uWNWAvvRCe",
        "colab_type": "code",
        "colab": {
          "base_uri": "https://localhost:8080/",
          "height": 343
        },
        "outputId": "eaa05f67-4349-4187-f515-797885fb684e"
      },
      "source": [
        "df=train.head(10)\n",
        "df"
      ],
      "execution_count": 32,
      "outputs": [
        {
          "output_type": "execute_result",
          "data": {
            "text/html": [
              "<div>\n",
              "<style scoped>\n",
              "    .dataframe tbody tr th:only-of-type {\n",
              "        vertical-align: middle;\n",
              "    }\n",
              "\n",
              "    .dataframe tbody tr th {\n",
              "        vertical-align: top;\n",
              "    }\n",
              "\n",
              "    .dataframe thead th {\n",
              "        text-align: right;\n",
              "    }\n",
              "</style>\n",
              "<table border=\"1\" class=\"dataframe\">\n",
              "  <thead>\n",
              "    <tr style=\"text-align: right;\">\n",
              "      <th></th>\n",
              "      <th>id</th>\n",
              "      <th>comment_text</th>\n",
              "      <th>toxic</th>\n",
              "      <th>severe_toxic</th>\n",
              "      <th>obscene</th>\n",
              "      <th>threat</th>\n",
              "      <th>insult</th>\n",
              "      <th>identity_hate</th>\n",
              "    </tr>\n",
              "  </thead>\n",
              "  <tbody>\n",
              "    <tr>\n",
              "      <th>0</th>\n",
              "      <td>0000997932d777bf</td>\n",
              "      <td>Explanation\\nWhy the edits made under my usern...</td>\n",
              "      <td>0</td>\n",
              "      <td>0</td>\n",
              "      <td>0</td>\n",
              "      <td>0</td>\n",
              "      <td>0</td>\n",
              "      <td>0</td>\n",
              "    </tr>\n",
              "    <tr>\n",
              "      <th>1</th>\n",
              "      <td>000103f0d9cfb60f</td>\n",
              "      <td>D'aww! He matches this background colour I'm s...</td>\n",
              "      <td>0</td>\n",
              "      <td>0</td>\n",
              "      <td>0</td>\n",
              "      <td>0</td>\n",
              "      <td>0</td>\n",
              "      <td>0</td>\n",
              "    </tr>\n",
              "    <tr>\n",
              "      <th>2</th>\n",
              "      <td>000113f07ec002fd</td>\n",
              "      <td>Hey man, I'm really not trying to edit war. It...</td>\n",
              "      <td>0</td>\n",
              "      <td>0</td>\n",
              "      <td>0</td>\n",
              "      <td>0</td>\n",
              "      <td>0</td>\n",
              "      <td>0</td>\n",
              "    </tr>\n",
              "    <tr>\n",
              "      <th>3</th>\n",
              "      <td>0001b41b1c6bb37e</td>\n",
              "      <td>\"\\nMore\\nI can't make any real suggestions on ...</td>\n",
              "      <td>0</td>\n",
              "      <td>0</td>\n",
              "      <td>0</td>\n",
              "      <td>0</td>\n",
              "      <td>0</td>\n",
              "      <td>0</td>\n",
              "    </tr>\n",
              "    <tr>\n",
              "      <th>4</th>\n",
              "      <td>0001d958c54c6e35</td>\n",
              "      <td>You, sir, are my hero. Any chance you remember...</td>\n",
              "      <td>0</td>\n",
              "      <td>0</td>\n",
              "      <td>0</td>\n",
              "      <td>0</td>\n",
              "      <td>0</td>\n",
              "      <td>0</td>\n",
              "    </tr>\n",
              "    <tr>\n",
              "      <th>5</th>\n",
              "      <td>00025465d4725e87</td>\n",
              "      <td>\"\\n\\nCongratulations from me as well, use the ...</td>\n",
              "      <td>0</td>\n",
              "      <td>0</td>\n",
              "      <td>0</td>\n",
              "      <td>0</td>\n",
              "      <td>0</td>\n",
              "      <td>0</td>\n",
              "    </tr>\n",
              "    <tr>\n",
              "      <th>6</th>\n",
              "      <td>0002bcb3da6cb337</td>\n",
              "      <td>COCKSUCKER BEFORE YOU PISS AROUND ON MY WORK</td>\n",
              "      <td>1</td>\n",
              "      <td>1</td>\n",
              "      <td>1</td>\n",
              "      <td>0</td>\n",
              "      <td>1</td>\n",
              "      <td>0</td>\n",
              "    </tr>\n",
              "    <tr>\n",
              "      <th>7</th>\n",
              "      <td>00031b1e95af7921</td>\n",
              "      <td>Your vandalism to the Matt Shirvington article...</td>\n",
              "      <td>0</td>\n",
              "      <td>0</td>\n",
              "      <td>0</td>\n",
              "      <td>0</td>\n",
              "      <td>0</td>\n",
              "      <td>0</td>\n",
              "    </tr>\n",
              "    <tr>\n",
              "      <th>8</th>\n",
              "      <td>00037261f536c51d</td>\n",
              "      <td>Sorry if the word 'nonsense' was offensive to ...</td>\n",
              "      <td>0</td>\n",
              "      <td>0</td>\n",
              "      <td>0</td>\n",
              "      <td>0</td>\n",
              "      <td>0</td>\n",
              "      <td>0</td>\n",
              "    </tr>\n",
              "    <tr>\n",
              "      <th>9</th>\n",
              "      <td>00040093b2687caa</td>\n",
              "      <td>alignment on this subject and which are contra...</td>\n",
              "      <td>0</td>\n",
              "      <td>0</td>\n",
              "      <td>0</td>\n",
              "      <td>0</td>\n",
              "      <td>0</td>\n",
              "      <td>0</td>\n",
              "    </tr>\n",
              "  </tbody>\n",
              "</table>\n",
              "</div>"
            ],
            "text/plain": [
              "                 id  ... identity_hate\n",
              "0  0000997932d777bf  ...             0\n",
              "1  000103f0d9cfb60f  ...             0\n",
              "2  000113f07ec002fd  ...             0\n",
              "3  0001b41b1c6bb37e  ...             0\n",
              "4  0001d958c54c6e35  ...             0\n",
              "5  00025465d4725e87  ...             0\n",
              "6  0002bcb3da6cb337  ...             0\n",
              "7  00031b1e95af7921  ...             0\n",
              "8  00037261f536c51d  ...             0\n",
              "9  00040093b2687caa  ...             0\n",
              "\n",
              "[10 rows x 8 columns]"
            ]
          },
          "metadata": {
            "tags": []
          },
          "execution_count": 32
        }
      ]
    },
    {
      "cell_type": "code",
      "metadata": {
        "id": "s_6hyc0jvUdW",
        "colab_type": "code",
        "colab": {
          "base_uri": "https://localhost:8080/",
          "height": 269
        },
        "outputId": "8184ae96-20d0-4285-e6da-bd56a575d0ab"
      },
      "source": [
        "print(\"Check for missing values in Train dataset\")\n",
        "null_check=df.isnull().sum()\n",
        "print(null_check)\n",
        "print(\"Check for missing values in Test dataset\")\n",
        "null_check=test.isnull().sum()\n",
        "print(null_check)\n",
        "print(\"filling NA with \\\"unknown\\\"\")\n",
        "train[\"comment_text\"].fillna(\"unknown\", inplace=True)\n",
        "test[\"comment_text\"].fillna(\"unknown\", inplace=True)"
      ],
      "execution_count": 33,
      "outputs": [
        {
          "output_type": "stream",
          "text": [
            "Check for missing values in Train dataset\n",
            "id               0\n",
            "comment_text     0\n",
            "toxic            0\n",
            "severe_toxic     0\n",
            "obscene          0\n",
            "threat           0\n",
            "insult           0\n",
            "identity_hate    0\n",
            "dtype: int64\n",
            "Check for missing values in Test dataset\n",
            "id              0\n",
            "comment_text    0\n",
            "dtype: int64\n",
            "filling NA with \"unknown\"\n"
          ],
          "name": "stdout"
        }
      ]
    },
    {
      "cell_type": "code",
      "metadata": {
        "id": "i88iR5SnvmXQ",
        "colab_type": "code",
        "colab": {
          "base_uri": "https://localhost:8080/",
          "height": 505
        },
        "outputId": "170fba8f-6df1-40c8-dec0-0e060ab1f3e1"
      },
      "source": [
        "temp_df=train.iloc[:,2:-1]\n",
        "# filter temp by removing clean comments\n",
        "# temp_df=temp_df[~train.clean]\n",
        "\n",
        "corr=temp_df.corr()\n",
        "plt.figure(figsize=(10,8))\n",
        "sns.heatmap(corr,\n",
        "            xticklabels=corr.columns.values,\n",
        "            yticklabels=corr.columns.values, annot=True)"
      ],
      "execution_count": 35,
      "outputs": [
        {
          "output_type": "execute_result",
          "data": {
            "text/plain": [
              "<matplotlib.axes._subplots.AxesSubplot at 0x7f02419a9fd0>"
            ]
          },
          "metadata": {
            "tags": []
          },
          "execution_count": 35
        },
        {
          "output_type": "display_data",
          "data": {
            "image/png": "[encoded data removed]",
            "text/plain": [
              "<Figure size 720x576 with 2 Axes>"
            ]
          },
          "metadata": {
            "tags": [],
            "needs_background": "light"
          }
        }
      ]
    },
    {
      "cell_type": "code",
      "metadata": {
        "id": "SQ2SpB_wvrh-",
        "colab_type": "code",
        "colab": {}
      },
      "source": [
        "main_col=\"toxic\"\n",
        "corr_mats=[]\n",
        "for other_col in temp_df.columns[1:]:\n",
        "    confusion_matrix = pd.crosstab(temp_df[main_col], temp_df[other_col])\n",
        "    corr_mats.append(confusion_matrix)\n",
        "out = pd.concat(corr_mats,axis=1,keys=temp_df.columns[1:])\n"
      ],
      "execution_count": 43,
      "outputs": []
    },
    {
      "cell_type": "code",
      "metadata": {
        "id": "D35WV-HBy3rg",
        "colab_type": "code",
        "colab": {
          "base_uri": "https://localhost:8080/",
          "height": 118
        },
        "outputId": "ef5de390-59d1-4177-b67c-45ac140629d2"
      },
      "source": [
        "out = out.style.apply(highlight_min,axis=0)\n",
        "out"
      ],
      "execution_count": 44,
      "outputs": [
        {
          "output_type": "execute_result",
          "data": {
            "text/html": [
              "<style  type=\"text/css\" >\n",
              "    #T_d71124fe_b47b_11ea_8488_0242ac1c0002row0_col1 {\n",
              "            background-color:  red;\n",
              "        }    #T_d71124fe_b47b_11ea_8488_0242ac1c0002row0_col3 {\n",
              "            background-color:  red;\n",
              "        }    #T_d71124fe_b47b_11ea_8488_0242ac1c0002row0_col5 {\n",
              "            background-color:  red;\n",
              "        }    #T_d71124fe_b47b_11ea_8488_0242ac1c0002row0_col7 {\n",
              "            background-color:  red;\n",
              "        }    #T_d71124fe_b47b_11ea_8488_0242ac1c0002row1_col0 {\n",
              "            background-color:  red;\n",
              "        }    #T_d71124fe_b47b_11ea_8488_0242ac1c0002row1_col2 {\n",
              "            background-color:  red;\n",
              "        }    #T_d71124fe_b47b_11ea_8488_0242ac1c0002row1_col4 {\n",
              "            background-color:  red;\n",
              "        }    #T_d71124fe_b47b_11ea_8488_0242ac1c0002row1_col6 {\n",
              "            background-color:  red;\n",
              "        }</style><table id=\"T_d71124fe_b47b_11ea_8488_0242ac1c0002\" ><thead>    <tr>        <th class=\"blank level0\" ></th>        <th class=\"col_heading level0 col0\" colspan=2>severe_toxic</th>        <th class=\"col_heading level0 col2\" colspan=2>obscene</th>        <th class=\"col_heading level0 col4\" colspan=2>threat</th>        <th class=\"col_heading level0 col6\" colspan=2>insult</th>    </tr>    <tr>        <th class=\"index_name level1\" >severe_toxic</th>        <th class=\"col_heading level1 col0\" >0</th>        <th class=\"col_heading level1 col1\" >1</th>        <th class=\"col_heading level1 col2\" >0</th>        <th class=\"col_heading level1 col3\" >1</th>        <th class=\"col_heading level1 col4\" >0</th>        <th class=\"col_heading level1 col5\" >1</th>        <th class=\"col_heading level1 col6\" >0</th>        <th class=\"col_heading level1 col7\" >1</th>    </tr>    <tr>        <th class=\"index_name level0\" >toxic</th>        <th class=\"blank\" ></th>        <th class=\"blank\" ></th>        <th class=\"blank\" ></th>        <th class=\"blank\" ></th>        <th class=\"blank\" ></th>        <th class=\"blank\" ></th>        <th class=\"blank\" ></th>        <th class=\"blank\" ></th>    </tr></thead><tbody>\n",
              "                <tr>\n",
              "                        <th id=\"T_d71124fe_b47b_11ea_8488_0242ac1c0002level0_row0\" class=\"row_heading level0 row0\" >0</th>\n",
              "                        <td id=\"T_d71124fe_b47b_11ea_8488_0242ac1c0002row0_col0\" class=\"data row0 col0\" >144277</td>\n",
              "                        <td id=\"T_d71124fe_b47b_11ea_8488_0242ac1c0002row0_col1\" class=\"data row0 col1\" >0</td>\n",
              "                        <td id=\"T_d71124fe_b47b_11ea_8488_0242ac1c0002row0_col2\" class=\"data row0 col2\" >143754</td>\n",
              "                        <td id=\"T_d71124fe_b47b_11ea_8488_0242ac1c0002row0_col3\" class=\"data row0 col3\" >523</td>\n",
              "                        <td id=\"T_d71124fe_b47b_11ea_8488_0242ac1c0002row0_col4\" class=\"data row0 col4\" >144248</td>\n",
              "                        <td id=\"T_d71124fe_b47b_11ea_8488_0242ac1c0002row0_col5\" class=\"data row0 col5\" >29</td>\n",
              "                        <td id=\"T_d71124fe_b47b_11ea_8488_0242ac1c0002row0_col6\" class=\"data row0 col6\" >143744</td>\n",
              "                        <td id=\"T_d71124fe_b47b_11ea_8488_0242ac1c0002row0_col7\" class=\"data row0 col7\" >533</td>\n",
              "            </tr>\n",
              "            <tr>\n",
              "                        <th id=\"T_d71124fe_b47b_11ea_8488_0242ac1c0002level0_row1\" class=\"row_heading level0 row1\" >1</th>\n",
              "                        <td id=\"T_d71124fe_b47b_11ea_8488_0242ac1c0002row1_col0\" class=\"data row1 col0\" >13699</td>\n",
              "                        <td id=\"T_d71124fe_b47b_11ea_8488_0242ac1c0002row1_col1\" class=\"data row1 col1\" >1595</td>\n",
              "                        <td id=\"T_d71124fe_b47b_11ea_8488_0242ac1c0002row1_col2\" class=\"data row1 col2\" >7368</td>\n",
              "                        <td id=\"T_d71124fe_b47b_11ea_8488_0242ac1c0002row1_col3\" class=\"data row1 col3\" >7926</td>\n",
              "                        <td id=\"T_d71124fe_b47b_11ea_8488_0242ac1c0002row1_col4\" class=\"data row1 col4\" >14845</td>\n",
              "                        <td id=\"T_d71124fe_b47b_11ea_8488_0242ac1c0002row1_col5\" class=\"data row1 col5\" >449</td>\n",
              "                        <td id=\"T_d71124fe_b47b_11ea_8488_0242ac1c0002row1_col6\" class=\"data row1 col6\" >7950</td>\n",
              "                        <td id=\"T_d71124fe_b47b_11ea_8488_0242ac1c0002row1_col7\" class=\"data row1 col7\" >7344</td>\n",
              "            </tr>\n",
              "    </tbody></table>"
            ],
            "text/plain": [
              "<pandas.io.formats.style.Styler at 0x7f01df971dd8>"
            ]
          },
          "metadata": {
            "tags": []
          },
          "execution_count": 44
        }
      ]
    }
  ]
}