{
  "nbformat": 4,
  "nbformat_minor": 0,
  "metadata": {
    "colab": {
      "name": "Text Summarization_NLP.ipynb",
      "provenance": []
    },
    "kernelspec": {
      "name": "python3",
      "display_name": "Python 3"
    }
  },
  "cells": [
    {
      "cell_type": "code",
      "metadata": {
        "id": "XfMuvWZ2BfdK",
        "colab_type": "code",
        "colab": {
          "base_uri": "https://localhost:8080/",
          "height": 574
        },
        "outputId": "a437fbde-9c0a-4b31-a89d-9254e4a09d11"
      },
      "source": [
        "!pip install -U spacy"
      ],
      "execution_count": 1,
      "outputs": [
        {
          "output_type": "stream",
          "text": [
            "Collecting spacy\n",
            "\u001b[?25l  Downloading https://files.pythonhosted.org/packages/10/b5/c7a92c7ce5d4b353b70b4b5b4385687206c8b230ddfe08746ab0fd310a3a/spacy-2.3.2-cp36-cp36m-manylinux1_x86_64.whl (9.9MB)\n",
            "\u001b[K     |████████████████████████████████| 10.0MB 2.9MB/s \n",
            "\u001b[?25hRequirement already satisfied, skipping upgrade: preshed<3.1.0,>=3.0.2 in /usr/local/lib/python3.6/dist-packages (from spacy) (3.0.2)\n",
            "Requirement already satisfied, skipping upgrade: wasabi<1.1.0,>=0.4.0 in /usr/local/lib/python3.6/dist-packages (from spacy) (0.7.0)\n",
            "Requirement already satisfied, skipping upgrade: cymem<2.1.0,>=2.0.2 in /usr/local/lib/python3.6/dist-packages (from spacy) (2.0.3)\n",
            "Requirement already satisfied, skipping upgrade: requests<3.0.0,>=2.13.0 in /usr/local/lib/python3.6/dist-packages (from spacy) (2.23.0)\n",
            "Requirement already satisfied, skipping upgrade: setuptools in /usr/local/lib/python3.6/dist-packages (from spacy) (49.1.0)\n",
            "Collecting thinc==7.4.1\n",
            "\u001b[?25l  Downloading https://files.pythonhosted.org/packages/10/ae/ef3ae5e93639c0ef8e3eb32e3c18341e511b3c515fcfc603f4b808087651/thinc-7.4.1-cp36-cp36m-manylinux1_x86_64.whl (2.1MB)\n",
            "\u001b[K     |████████████████████████████████| 2.1MB 34.4MB/s \n",
            "\u001b[?25hRequirement already satisfied, skipping upgrade: numpy>=1.15.0 in /usr/local/lib/python3.6/dist-packages (from spacy) (1.18.5)\n",
            "Requirement already satisfied, skipping upgrade: plac<1.2.0,>=0.9.6 in /usr/local/lib/python3.6/dist-packages (from spacy) (1.1.3)\n",
            "Requirement already satisfied, skipping upgrade: murmurhash<1.1.0,>=0.28.0 in /usr/local/lib/python3.6/dist-packages (from spacy) (1.0.2)\n",
            "Requirement already satisfied, skipping upgrade: srsly<1.1.0,>=1.0.2 in /usr/local/lib/python3.6/dist-packages (from spacy) (1.0.2)\n",
            "Requirement already satisfied, skipping upgrade: tqdm<5.0.0,>=4.38.0 in /usr/local/lib/python3.6/dist-packages (from spacy) (4.41.1)\n",
            "Requirement already satisfied, skipping upgrade: catalogue<1.1.0,>=0.0.7 in /usr/local/lib/python3.6/dist-packages (from spacy) (1.0.0)\n",
            "Requirement already satisfied, skipping upgrade: blis<0.5.0,>=0.4.0 in /usr/local/lib/python3.6/dist-packages (from spacy) (0.4.1)\n",
            "Requirement already satisfied, skipping upgrade: chardet<4,>=3.0.2 in /usr/local/lib/python3.6/dist-packages (from requests<3.0.0,>=2.13.0->spacy) (3.0.4)\n",
            "Requirement already satisfied, skipping upgrade: idna<3,>=2.5 in /usr/local/lib/python3.6/dist-packages (from requests<3.0.0,>=2.13.0->spacy) (2.10)\n",
            "Requirement already satisfied, skipping upgrade: urllib3!=1.25.0,!=1.25.1,<1.26,>=1.21.1 in /usr/local/lib/python3.6/dist-packages (from requests<3.0.0,>=2.13.0->spacy) (1.24.3)\n",
            "Requirement already satisfied, skipping upgrade: certifi>=2017.4.17 in /usr/local/lib/python3.6/dist-packages (from requests<3.0.0,>=2.13.0->spacy) (2020.6.20)\n",
            "Requirement already satisfied, skipping upgrade: importlib-metadata>=0.20; python_version < \"3.8\" in /usr/local/lib/python3.6/dist-packages (from catalogue<1.1.0,>=0.0.7->spacy) (1.7.0)\n",
            "Requirement already satisfied, skipping upgrade: zipp>=0.5 in /usr/local/lib/python3.6/dist-packages (from importlib-metadata>=0.20; python_version < \"3.8\"->catalogue<1.1.0,>=0.0.7->spacy) (3.1.0)\n",
            "Installing collected packages: thinc, spacy\n",
            "  Found existing installation: thinc 7.4.0\n",
            "    Uninstalling thinc-7.4.0:\n",
            "      Successfully uninstalled thinc-7.4.0\n",
            "  Found existing installation: spacy 2.2.4\n",
            "    Uninstalling spacy-2.2.4:\n",
            "      Successfully uninstalled spacy-2.2.4\n",
            "Successfully installed spacy-2.3.2 thinc-7.4.1\n"
          ],
          "name": "stdout"
        }
      ]
    },
    {
      "cell_type": "code",
      "metadata": {
        "id": "bUosJjznBnCz",
        "colab_type": "code",
        "colab": {
          "base_uri": "https://localhost:8080/",
          "height": 625
        },
        "outputId": "766a4c73-b4e2-442c-90b5-294ee9737583"
      },
      "source": [
        "!python -m spacy download en_core_web_sm"
      ],
      "execution_count": 2,
      "outputs": [
        {
          "output_type": "stream",
          "text": [
            "Collecting en_core_web_sm==2.3.1\n",
            "\u001b[?25l  Downloading https://github.com/explosion/spacy-models/releases/download/en_core_web_sm-2.3.1/en_core_web_sm-2.3.1.tar.gz (12.0MB)\n",
            "\u001b[K     |████████████████████████████████| 12.1MB 3.8MB/s \n",
            "\u001b[?25hRequirement already satisfied: spacy<2.4.0,>=2.3.0 in /usr/local/lib/python3.6/dist-packages (from en_core_web_sm==2.3.1) (2.3.2)\n",
            "Requirement already satisfied: srsly<1.1.0,>=1.0.2 in /usr/local/lib/python3.6/dist-packages (from spacy<2.4.0,>=2.3.0->en_core_web_sm==2.3.1) (1.0.2)\n",
            "Requirement already satisfied: thinc==7.4.1 in /usr/local/lib/python3.6/dist-packages (from spacy<2.4.0,>=2.3.0->en_core_web_sm==2.3.1) (7.4.1)\n",
            "Requirement already satisfied: cymem<2.1.0,>=2.0.2 in /usr/local/lib/python3.6/dist-packages (from spacy<2.4.0,>=2.3.0->en_core_web_sm==2.3.1) (2.0.3)\n",
            "Requirement already satisfied: numpy>=1.15.0 in /usr/local/lib/python3.6/dist-packages (from spacy<2.4.0,>=2.3.0->en_core_web_sm==2.3.1) (1.18.5)\n",
            "Requirement already satisfied: catalogue<1.1.0,>=0.0.7 in /usr/local/lib/python3.6/dist-packages (from spacy<2.4.0,>=2.3.0->en_core_web_sm==2.3.1) (1.0.0)\n",
            "Requirement already satisfied: preshed<3.1.0,>=3.0.2 in /usr/local/lib/python3.6/dist-packages (from spacy<2.4.0,>=2.3.0->en_core_web_sm==2.3.1) (3.0.2)\n",
            "Requirement already satisfied: blis<0.5.0,>=0.4.0 in /usr/local/lib/python3.6/dist-packages (from spacy<2.4.0,>=2.3.0->en_core_web_sm==2.3.1) (0.4.1)\n",
            "Requirement already satisfied: requests<3.0.0,>=2.13.0 in /usr/local/lib/python3.6/dist-packages (from spacy<2.4.0,>=2.3.0->en_core_web_sm==2.3.1) (2.23.0)\n",
            "Requirement already satisfied: tqdm<5.0.0,>=4.38.0 in /usr/local/lib/python3.6/dist-packages (from spacy<2.4.0,>=2.3.0->en_core_web_sm==2.3.1) (4.41.1)\n",
            "Requirement already satisfied: wasabi<1.1.0,>=0.4.0 in /usr/local/lib/python3.6/dist-packages (from spacy<2.4.0,>=2.3.0->en_core_web_sm==2.3.1) (0.7.0)\n",
            "Requirement already satisfied: setuptools in /usr/local/lib/python3.6/dist-packages (from spacy<2.4.0,>=2.3.0->en_core_web_sm==2.3.1) (49.1.0)\n",
            "Requirement already satisfied: murmurhash<1.1.0,>=0.28.0 in /usr/local/lib/python3.6/dist-packages (from spacy<2.4.0,>=2.3.0->en_core_web_sm==2.3.1) (1.0.2)\n",
            "Requirement already satisfied: plac<1.2.0,>=0.9.6 in /usr/local/lib/python3.6/dist-packages (from spacy<2.4.0,>=2.3.0->en_core_web_sm==2.3.1) (1.1.3)\n",
            "Requirement already satisfied: importlib-metadata>=0.20; python_version < \"3.8\" in /usr/local/lib/python3.6/dist-packages (from catalogue<1.1.0,>=0.0.7->spacy<2.4.0,>=2.3.0->en_core_web_sm==2.3.1) (1.7.0)\n",
            "Requirement already satisfied: idna<3,>=2.5 in /usr/local/lib/python3.6/dist-packages (from requests<3.0.0,>=2.13.0->spacy<2.4.0,>=2.3.0->en_core_web_sm==2.3.1) (2.10)\n",
            "Requirement already satisfied: certifi>=2017.4.17 in /usr/local/lib/python3.6/dist-packages (from requests<3.0.0,>=2.13.0->spacy<2.4.0,>=2.3.0->en_core_web_sm==2.3.1) (2020.6.20)\n",
            "Requirement already satisfied: urllib3!=1.25.0,!=1.25.1,<1.26,>=1.21.1 in /usr/local/lib/python3.6/dist-packages (from requests<3.0.0,>=2.13.0->spacy<2.4.0,>=2.3.0->en_core_web_sm==2.3.1) (1.24.3)\n",
            "Requirement already satisfied: chardet<4,>=3.0.2 in /usr/local/lib/python3.6/dist-packages (from requests<3.0.0,>=2.13.0->spacy<2.4.0,>=2.3.0->en_core_web_sm==2.3.1) (3.0.4)\n",
            "Requirement already satisfied: zipp>=0.5 in /usr/local/lib/python3.6/dist-packages (from importlib-metadata>=0.20; python_version < \"3.8\"->catalogue<1.1.0,>=0.0.7->spacy<2.4.0,>=2.3.0->en_core_web_sm==2.3.1) (3.1.0)\n",
            "Building wheels for collected packages: en-core-web-sm\n",
            "  Building wheel for en-core-web-sm (setup.py) ... \u001b[?25l\u001b[?25hdone\n",
            "  Created wheel for en-core-web-sm: filename=en_core_web_sm-2.3.1-cp36-none-any.whl size=12047111 sha256=994a930d7f8243d19626aed8835a157578eb2caf32b4f71a55bdfc3ccc22d18f\n",
            "  Stored in directory: /tmp/pip-ephem-wheel-cache-xacgyd0g/wheels/2b/3f/41/f0b92863355c3ba34bb32b37d8a0c662959da0058202094f46\n",
            "Successfully built en-core-web-sm\n",
            "Installing collected packages: en-core-web-sm\n",
            "  Found existing installation: en-core-web-sm 2.2.5\n",
            "    Uninstalling en-core-web-sm-2.2.5:\n",
            "      Successfully uninstalled en-core-web-sm-2.2.5\n",
            "Successfully installed en-core-web-sm-2.3.1\n",
            "\u001b[38;5;2m✔ Download and installation successful\u001b[0m\n",
            "You can now load the model via spacy.load('en_core_web_sm')\n"
          ],
          "name": "stdout"
        }
      ]
    },
    {
      "cell_type": "code",
      "metadata": {
        "id": "VEDAxAqb3zTa",
        "colab_type": "code",
        "colab": {}
      },
      "source": [
        "text=\"\"\"\n",
        "In computer science, artificial intelligence (AI), sometimes called machine intelligence, is intelligence demonstrated by machines, unlike the natural intelligence displayed by humans and animals. Leading AI textbooks define the field as the study of \"intelligent agents\": any device that perceives its environment and takes actions that maximize its chance of successfully achieving its goals.[1] Colloquially, the term \"artificial intelligence\" is often used to describe machines (or computers) that mimic \"cognitive\" functions that humans associate with the human mind, such as \"learning\" and \"problem solving \"\"\""
      ],
      "execution_count": 3,
      "outputs": []
    },
    {
      "cell_type": "code",
      "metadata": {
        "id": "X2wHuYIxBxYw",
        "colab_type": "code",
        "colab": {}
      },
      "source": [
        "import spacy\n",
        "from spacy.lang.en.stop_words import  STOP_WORDS\n",
        "from string import punctuation"
      ],
      "execution_count": 4,
      "outputs": []
    },
    {
      "cell_type": "code",
      "metadata": {
        "id": "dSow6K7jCCYa",
        "colab_type": "code",
        "colab": {
          "base_uri": "https://localhost:8080/",
          "height": 1000
        },
        "outputId": "8a959442-1132-4a69-a86d-fce0b445eec6"
      },
      "source": [
        "stopwords=list(STOP_WORDS)\n",
        "stopwords"
      ],
      "execution_count": 6,
      "outputs": [
        {
          "output_type": "execute_result",
          "data": {
            "text/plain": [
              "['anything',\n",
              " 'whither',\n",
              " 'nothing',\n",
              " 'are',\n",
              " 'about',\n",
              " 'former',\n",
              " 'other',\n",
              " 'should',\n",
              " 'quite',\n",
              " 'enough',\n",
              " 'under',\n",
              " 'less',\n",
              " 'via',\n",
              " 'whenever',\n",
              " 'empty',\n",
              " 'onto',\n",
              " 'none',\n",
              " 'formerly',\n",
              " 'a',\n",
              " 'when',\n",
              " '’s',\n",
              " 'among',\n",
              " 'above',\n",
              " 'without',\n",
              " 'others',\n",
              " 'towards',\n",
              " 'afterwards',\n",
              " 'during',\n",
              " 'together',\n",
              " 'over',\n",
              " 'six',\n",
              " 'everything',\n",
              " 'out',\n",
              " 'three',\n",
              " 're',\n",
              " 'whatever',\n",
              " 'nowhere',\n",
              " 'her',\n",
              " 'else',\n",
              " 'last',\n",
              " 'they',\n",
              " 'due',\n",
              " 'an',\n",
              " 'herself',\n",
              " 'various',\n",
              " 'you',\n",
              " 'themselves',\n",
              " 'does',\n",
              " 'toward',\n",
              " 'across',\n",
              " 'own',\n",
              " 'into',\n",
              " '’ll',\n",
              " '’ve',\n",
              " 'four',\n",
              " 'latterly',\n",
              " 'first',\n",
              " 'twenty',\n",
              " 'himself',\n",
              " 'rather',\n",
              " 'after',\n",
              " 'moreover',\n",
              " 'up',\n",
              " 'thus',\n",
              " 'just',\n",
              " 'eight',\n",
              " \"'m\",\n",
              " 'us',\n",
              " 'between',\n",
              " 'have',\n",
              " 'am',\n",
              " 'please',\n",
              " 'at',\n",
              " 'least',\n",
              " 'nevertheless',\n",
              " 'already',\n",
              " 'bottom',\n",
              " 'meanwhile',\n",
              " 'becomes',\n",
              " 'ours',\n",
              " \"n't\",\n",
              " 'something',\n",
              " 'mine',\n",
              " 'whereas',\n",
              " 'name',\n",
              " 'from',\n",
              " 'until',\n",
              " 'unless',\n",
              " 'very',\n",
              " 'being',\n",
              " 'me',\n",
              " 'there',\n",
              " 'thereafter',\n",
              " \"'d\",\n",
              " 'may',\n",
              " 'so',\n",
              " 'had',\n",
              " 'on',\n",
              " 'could',\n",
              " 'noone',\n",
              " 'show',\n",
              " 'thereupon',\n",
              " 'see',\n",
              " 'can',\n",
              " 'either',\n",
              " 'latter',\n",
              " 'for',\n",
              " 'few',\n",
              " 'eleven',\n",
              " 'this',\n",
              " 'who',\n",
              " 'whoever',\n",
              " 'my',\n",
              " 'otherwise',\n",
              " 'wherein',\n",
              " 'them',\n",
              " 'whereby',\n",
              " 'do',\n",
              " 'ten',\n",
              " 'the',\n",
              " \"'re\",\n",
              " '’m',\n",
              " 'nine',\n",
              " 'him',\n",
              " 'yourself',\n",
              " 'everyone',\n",
              " 'or',\n",
              " 'someone',\n",
              " 'top',\n",
              " 'not',\n",
              " 'becoming',\n",
              " 'of',\n",
              " 'while',\n",
              " 'therefore',\n",
              " 'regarding',\n",
              " 'same',\n",
              " 'whole',\n",
              " \"'ll\",\n",
              " 'by',\n",
              " 'again',\n",
              " 'each',\n",
              " 'whom',\n",
              " 'whose',\n",
              " 'n’t',\n",
              " 'except',\n",
              " 'be',\n",
              " 'several',\n",
              " 'go',\n",
              " 'anyone',\n",
              " 'why',\n",
              " 'give',\n",
              " 'take',\n",
              " 'seem',\n",
              " 'but',\n",
              " 'twelve',\n",
              " 'were',\n",
              " 'keep',\n",
              " 'get',\n",
              " 'done',\n",
              " 'anyhow',\n",
              " 'along',\n",
              " 'his',\n",
              " 'throughout',\n",
              " 'really',\n",
              " 'beyond',\n",
              " 'nor',\n",
              " \"'ve\",\n",
              " 'become',\n",
              " 'perhaps',\n",
              " 'serious',\n",
              " 'too',\n",
              " \"'s\",\n",
              " 'sometime',\n",
              " 'wherever',\n",
              " 'also',\n",
              " 'only',\n",
              " 'i',\n",
              " 'would',\n",
              " 'amongst',\n",
              " 'anywhere',\n",
              " 'she',\n",
              " 'these',\n",
              " '‘ve',\n",
              " 'myself',\n",
              " 'became',\n",
              " 'since',\n",
              " 'still',\n",
              " 'beforehand',\n",
              " 'say',\n",
              " 'n‘t',\n",
              " 'somehow',\n",
              " 'their',\n",
              " 'whether',\n",
              " 'per',\n",
              " 'with',\n",
              " 'seeming',\n",
              " 'third',\n",
              " 'once',\n",
              " 'before',\n",
              " 'no',\n",
              " 'thence',\n",
              " 'more',\n",
              " 'hundred',\n",
              " 'next',\n",
              " 'is',\n",
              " '‘re',\n",
              " 'upon',\n",
              " 'than',\n",
              " 'used',\n",
              " 'hence',\n",
              " 'been',\n",
              " 'hers',\n",
              " 'its',\n",
              " 'might',\n",
              " 'doing',\n",
              " 'back',\n",
              " 'well',\n",
              " 'both',\n",
              " 'one',\n",
              " 'we',\n",
              " 'thereby',\n",
              " 'your',\n",
              " 'hereby',\n",
              " 'down',\n",
              " 'using',\n",
              " 'forty',\n",
              " 'was',\n",
              " 'however',\n",
              " 'besides',\n",
              " 'ca',\n",
              " 'side',\n",
              " 'fifty',\n",
              " 'it',\n",
              " 'whereafter',\n",
              " 'will',\n",
              " 'all',\n",
              " 'seems',\n",
              " 'within',\n",
              " 'then',\n",
              " 'yourselves',\n",
              " 'and',\n",
              " 'never',\n",
              " 'which',\n",
              " 'always',\n",
              " 'below',\n",
              " 'hereupon',\n",
              " '’re',\n",
              " 'some',\n",
              " 'beside',\n",
              " 'make',\n",
              " 'somewhere',\n",
              " 'almost',\n",
              " 'such',\n",
              " 'herein',\n",
              " 'behind',\n",
              " 'mostly',\n",
              " 'front',\n",
              " 'he',\n",
              " 'often',\n",
              " 'cannot',\n",
              " 'yours',\n",
              " 'our',\n",
              " 'yet',\n",
              " 'as',\n",
              " '‘m',\n",
              " 'any',\n",
              " 'sixty',\n",
              " 'here',\n",
              " 'neither',\n",
              " 'full',\n",
              " 'where',\n",
              " 'everywhere',\n",
              " 'even',\n",
              " '‘s',\n",
              " 'call',\n",
              " 'whereupon',\n",
              " 'off',\n",
              " 'further',\n",
              " 'that',\n",
              " 'indeed',\n",
              " 'has',\n",
              " 'hereafter',\n",
              " 'although',\n",
              " 'made',\n",
              " 'against',\n",
              " 'amount',\n",
              " 'though',\n",
              " 'those',\n",
              " 'through',\n",
              " 'ever',\n",
              " 'nobody',\n",
              " 'if',\n",
              " '’d',\n",
              " 'another',\n",
              " 'five',\n",
              " 'fifteen',\n",
              " 'what',\n",
              " '‘d',\n",
              " 'sometimes',\n",
              " 'ourselves',\n",
              " 'whence',\n",
              " '‘ll',\n",
              " 'move',\n",
              " 'part',\n",
              " 'put',\n",
              " 'two',\n",
              " 'how',\n",
              " 'much',\n",
              " 'anyway',\n",
              " 'many',\n",
              " 'elsewhere',\n",
              " 'because',\n",
              " 'most',\n",
              " 'seemed',\n",
              " 'must',\n",
              " 'alone',\n",
              " 'in',\n",
              " 'to',\n",
              " 'around',\n",
              " 'itself',\n",
              " 'did',\n",
              " 'now',\n",
              " 'therein',\n",
              " 'every',\n",
              " 'thru',\n",
              " 'namely']"
            ]
          },
          "metadata": {
            "tags": []
          },
          "execution_count": 6
        }
      ]
    },
    {
      "cell_type": "code",
      "metadata": {
        "id": "3k7azjorCJXc",
        "colab_type": "code",
        "colab": {}
      },
      "source": [
        "nlp=spacy.load('en_core_web_sm')"
      ],
      "execution_count": 7,
      "outputs": []
    },
    {
      "cell_type": "code",
      "metadata": {
        "id": "hIWs5mxjCWEU",
        "colab_type": "code",
        "colab": {}
      },
      "source": [
        "doc=nlp(text)"
      ],
      "execution_count": 8,
      "outputs": []
    },
    {
      "cell_type": "code",
      "metadata": {
        "id": "Qj-Uyw8RCdSK",
        "colab_type": "code",
        "colab": {
          "base_uri": "https://localhost:8080/",
          "height": 54
        },
        "outputId": "4388f5c0-b9a1-4ac0-f0e0-5360f6a077b3"
      },
      "source": [
        "tokens=[token.text for token in doc]\n",
        "print(tokens)"
      ],
      "execution_count": 12,
      "outputs": [
        {
          "output_type": "stream",
          "text": [
            "['\\n', 'In', 'computer', 'science', ',', 'artificial', 'intelligence', '(', 'AI', ')', ',', 'sometimes', 'called', 'machine', 'intelligence', ',', 'is', 'intelligence', 'demonstrated', 'by', 'machines', ',', 'unlike', 'the', 'natural', 'intelligence', 'displayed', 'by', 'humans', 'and', 'animals', '.', 'Leading', 'AI', 'textbooks', 'define', 'the', 'field', 'as', 'the', 'study', 'of', '\"', 'intelligent', 'agents', '\"', ':', 'any', 'device', 'that', 'perceives', 'its', 'environment', 'and', 'takes', 'actions', 'that', 'maximize', 'its', 'chance', 'of', 'successfully', 'achieving', 'its', 'goals.[1', ']', 'Colloquially', ',', 'the', 'term', '\"', 'artificial', 'intelligence', '\"', 'is', 'often', 'used', 'to', 'describe', 'machines', '(', 'or', 'computers', ')', 'that', 'mimic', '\"', 'cognitive', '\"', 'functions', 'that', 'humans', 'associate', 'with', 'the', 'human', 'mind', ',', 'such', 'as', '\"', 'learning', '\"', 'and', '\"', 'problem', 'solving']\n"
          ],
          "name": "stdout"
        }
      ]
    },
    {
      "cell_type": "code",
      "metadata": {
        "id": "YQD-ffq8Crp2",
        "colab_type": "code",
        "colab": {
          "base_uri": "https://localhost:8080/",
          "height": 35
        },
        "outputId": "536a992d-57b7-4f4d-a91e-fab6a4f3ffb0"
      },
      "source": [
        "punctuation=punctuation + '\\n'\n",
        "punctuation"
      ],
      "execution_count": 13,
      "outputs": [
        {
          "output_type": "execute_result",
          "data": {
            "application/vnd.google.colaboratory.intrinsic": {
              "type": "string"
            },
            "text/plain": [
              "'!\"#$%&\\'()*+,-./:;<=>?@[\\\\]^_`{|}~\\n'"
            ]
          },
          "metadata": {
            "tags": []
          },
          "execution_count": 13
        }
      ]
    },
    {
      "cell_type": "code",
      "metadata": {
        "id": "q8L9c5dGCnjj",
        "colab_type": "code",
        "colab": {}
      },
      "source": [
        "word_frequencies={}\n",
        "for word in doc:\n",
        "  if word.text.lower() not in stopwords:\n",
        "    if word.text.lower() not in punctuation:\n",
        "      if word.text not in word_frequencies.keys():\n",
        "        word_frequencies[word.text]=1\n",
        "      else:\n",
        "        word_frequencies[word.text]+=1"
      ],
      "execution_count": 21,
      "outputs": []
    },
    {
      "cell_type": "code",
      "metadata": {
        "id": "io8P8ErMEHd6",
        "colab_type": "code",
        "colab": {
          "base_uri": "https://localhost:8080/",
          "height": 54
        },
        "outputId": "f117c2ec-ed06-4241-a74a-0f3b3a9a7f52"
      },
      "source": [
        "print(word_frequencies)"
      ],
      "execution_count": 23,
      "outputs": [
        {
          "output_type": "stream",
          "text": [
            "{'computer': 1, 'science': 1, 'artificial': 2, 'intelligence': 5, 'AI': 2, 'called': 1, 'machine': 1, 'demonstrated': 1, 'machines': 2, 'unlike': 1, 'natural': 1, 'displayed': 1, 'humans': 2, 'animals': 1, 'Leading': 1, 'textbooks': 1, 'define': 1, 'field': 1, 'study': 1, 'intelligent': 1, 'agents': 1, 'device': 1, 'perceives': 1, 'environment': 1, 'takes': 1, 'actions': 1, 'maximize': 1, 'chance': 1, 'successfully': 1, 'achieving': 1, 'goals.[1': 1, 'Colloquially': 1, 'term': 1, 'describe': 1, 'computers': 1, 'mimic': 1, 'cognitive': 1, 'functions': 1, 'associate': 1, 'human': 1, 'mind': 1, 'learning': 1, 'problem': 1, 'solving': 1}\n"
          ],
          "name": "stdout"
        }
      ]
    },
    {
      "cell_type": "code",
      "metadata": {
        "id": "oho3rlVqEMJx",
        "colab_type": "code",
        "colab": {}
      },
      "source": [
        "max_frequency=max(word_frequencies.values())"
      ],
      "execution_count": 25,
      "outputs": []
    },
    {
      "cell_type": "code",
      "metadata": {
        "id": "Np0E6jX8EaAI",
        "colab_type": "code",
        "colab": {
          "base_uri": "https://localhost:8080/",
          "height": 34
        },
        "outputId": "b8b2f8b2-44a2-49b4-fa1f-4fd1b914e0a4"
      },
      "source": [
        "max_frequency"
      ],
      "execution_count": 26,
      "outputs": [
        {
          "output_type": "execute_result",
          "data": {
            "text/plain": [
              "5"
            ]
          },
          "metadata": {
            "tags": []
          },
          "execution_count": 26
        }
      ]
    },
    {
      "cell_type": "code",
      "metadata": {
        "id": "E4xzH68gEfqg",
        "colab_type": "code",
        "colab": {}
      },
      "source": [
        "for word in word_frequencies.keys():\n",
        "  word_frequencies[word]=word_frequencies[word]/max_frequency"
      ],
      "execution_count": 27,
      "outputs": []
    },
    {
      "cell_type": "code",
      "metadata": {
        "id": "Wv4M_dxDEslr",
        "colab_type": "code",
        "colab": {
          "base_uri": "https://localhost:8080/",
          "height": 104
        },
        "outputId": "4cffe91e-da02-4f42-fe73-12faf896d16a"
      },
      "source": [
        "sentence_tokens=[sent for sent in doc.sents]\n",
        "sentence_tokens"
      ],
      "execution_count": 30,
      "outputs": [
        {
          "output_type": "execute_result",
          "data": {
            "text/plain": [
              "[\n",
              " In computer science, artificial intelligence (AI), sometimes called machine intelligence, is intelligence demonstrated by machines, unlike the natural intelligence displayed by humans and animals.,\n",
              " Leading AI textbooks define the field as the study of \"intelligent agents\": any device that perceives its environment and takes actions that maximize its chance of successfully achieving its goals.[1],\n",
              " Colloquially, the term \"artificial intelligence\" is often used to describe machines (or computers) that mimic \"cognitive\" functions that humans associate with the human mind, such as \"learning\" and \"problem solving]"
            ]
          },
          "metadata": {
            "tags": []
          },
          "execution_count": 30
        }
      ]
    },
    {
      "cell_type": "code",
      "metadata": {
        "id": "Alx_2c5TFC5j",
        "colab_type": "code",
        "colab": {}
      },
      "source": [
        "sentence_scores={}\n",
        "for sent in sentence_tokens:\n",
        "  for word in sent:\n",
        "    if word.text.lower() in word_frequencies.keys():\n",
        "      if sent not in sentence_scores.keys():\n",
        "        sentence_scores[sent] = word_frequencies[word.text.lower()]\n",
        "      else:\n",
        "         sentence_scores[sent] += word_frequencies[word.text.lower()]"
      ],
      "execution_count": 41,
      "outputs": []
    },
    {
      "cell_type": "code",
      "metadata": {
        "id": "E9hBuVlvG0rQ",
        "colab_type": "code",
        "colab": {
          "base_uri": "https://localhost:8080/",
          "height": 104
        },
        "outputId": "764dcdd7-3d87-42a8-b9a2-5a61dd1281f0"
      },
      "source": [
        "sentence_scores"
      ],
      "execution_count": 42,
      "outputs": [
        {
          "output_type": "execute_result",
          "data": {
            "text/plain": [
              "{\n",
              " In computer science, artificial intelligence (AI), sometimes called machine intelligence, is intelligence demonstrated by machines, unlike the natural intelligence displayed by humans and animals.: 7.000000000000002,\n",
              " Leading AI textbooks define the field as the study of \"intelligent agents\": any device that perceives its environment and takes actions that maximize its chance of successfully achieving its goals.[1]: 3.2000000000000006,\n",
              " Colloquially, the term \"artificial intelligence\" is often used to describe machines (or computers) that mimic \"cognitive\" functions that humans associate with the human mind, such as \"learning\" and \"problem solving: 4.600000000000001}"
            ]
          },
          "metadata": {
            "tags": []
          },
          "execution_count": 42
        }
      ]
    },
    {
      "cell_type": "code",
      "metadata": {
        "id": "ImrBHIWPF0OV",
        "colab_type": "code",
        "colab": {}
      },
      "source": [
        "from heapq import nlargest"
      ],
      "execution_count": 43,
      "outputs": []
    },
    {
      "cell_type": "code",
      "metadata": {
        "id": "cPFTULBzHC9M",
        "colab_type": "code",
        "colab": {
          "base_uri": "https://localhost:8080/",
          "height": 34
        },
        "outputId": "85ce210a-9af6-4f73-95ca-deb57ce6d8a7"
      },
      "source": [
        "select_length=int(len(sentence_tokens)*0.9)\n",
        "select_length"
      ],
      "execution_count": 50,
      "outputs": [
        {
          "output_type": "execute_result",
          "data": {
            "text/plain": [
              "2"
            ]
          },
          "metadata": {
            "tags": []
          },
          "execution_count": 50
        }
      ]
    },
    {
      "cell_type": "code",
      "metadata": {
        "id": "8TDjW9vgHLHH",
        "colab_type": "code",
        "colab": {}
      },
      "source": [
        "summary=nlargest(select_length,sentence_scores,key=sentence_scores.get)"
      ],
      "execution_count": 52,
      "outputs": []
    },
    {
      "cell_type": "code",
      "metadata": {
        "id": "fnWFv0GJHxi3",
        "colab_type": "code",
        "colab": {
          "base_uri": "https://localhost:8080/",
          "height": 87
        },
        "outputId": "2a597f63-27f4-4590-979f-e550e82b398d"
      },
      "source": [
        "summary"
      ],
      "execution_count": 53,
      "outputs": [
        {
          "output_type": "execute_result",
          "data": {
            "text/plain": [
              "[\n",
              " In computer science, artificial intelligence (AI), sometimes called machine intelligence, is intelligence demonstrated by machines, unlike the natural intelligence displayed by humans and animals.,\n",
              " Colloquially, the term \"artificial intelligence\" is often used to describe machines (or computers) that mimic \"cognitive\" functions that humans associate with the human mind, such as \"learning\" and \"problem solving]"
            ]
          },
          "metadata": {
            "tags": []
          },
          "execution_count": 53
        }
      ]
    },
    {
      "cell_type": "code",
      "metadata": {
        "id": "EU8bHBbUH6mU",
        "colab_type": "code",
        "colab": {}
      },
      "source": [
        "final_summary=[word.text for word in summary]"
      ],
      "execution_count": 54,
      "outputs": []
    },
    {
      "cell_type": "code",
      "metadata": {
        "id": "y5hPJAluH_0o",
        "colab_type": "code",
        "colab": {}
      },
      "source": [
        "summary=' '.join(final_summary)"
      ],
      "execution_count": 55,
      "outputs": []
    },
    {
      "cell_type": "code",
      "metadata": {
        "id": "n3sp7EPhIFQT",
        "colab_type": "code",
        "colab": {
          "base_uri": "https://localhost:8080/",
          "height": 69
        },
        "outputId": "35432a6e-7274-4790-ee88-463e1ea3bd7f"
      },
      "source": [
        "summary"
      ],
      "execution_count": 56,
      "outputs": [
        {
          "output_type": "execute_result",
          "data": {
            "application/vnd.google.colaboratory.intrinsic": {
              "type": "string"
            },
            "text/plain": [
              "'\\nIn computer science, artificial intelligence (AI), sometimes called machine intelligence, is intelligence demonstrated by machines, unlike the natural intelligence displayed by humans and animals. Colloquially, the term \"artificial intelligence\" is often used to describe machines (or computers) that mimic \"cognitive\" functions that humans associate with the human mind, such as \"learning\" and \"problem solving'"
            ]
          },
          "metadata": {
            "tags": []
          },
          "execution_count": 56
        }
      ]
    }
  ]
}