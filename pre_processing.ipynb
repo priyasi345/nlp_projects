{
  "nbformat": 4,
  "nbformat_minor": 0,
  "metadata": {
    "colab": {
      "name": "pre-processing.ipynb",
      "provenance": []
    },
    "kernelspec": {
      "name": "python3",
      "display_name": "Python 3"
    }
  },
  "cells": [
    {
      "cell_type": "code",
      "metadata": {
        "id": "Gkj8tHBiSvR-",
        "colab_type": "code",
        "colab": {}
      },
      "source": [
        "\n",
        "import numpy as np\n",
        "import pandas as pd\n",
        "import matplotlib.pyplot as plt\n",
        "import seaborn as sns\n",
        "import statsmodels.api as sm\n",
        "import warnings\n",
        "warnings.filterwarnings(\"ignore\")\n",
        "from sklearn.preprocessing import LabelEncoder,StandardScaler,MinMaxScaler,RobustScaler"
      ],
      "execution_count": 2,
      "outputs": []
    },
    {
      "cell_type": "code",
      "metadata": {
        "id": "B4ywkipoSyqy",
        "colab_type": "code",
        "colab": {}
      },
      "source": [
        "data = pd.read_csv('/content/Metro-Traffic-Volume.csv')"
      ],
      "execution_count": 3,
      "outputs": []
    },
    {
      "cell_type": "code",
      "metadata": {
        "id": "1FzSjS2pTmDU",
        "colab_type": "code",
        "colab": {
          "base_uri": "https://localhost:8080/",
          "height": 195
        },
        "outputId": "ca37df61-e004-4c82-b426-c98f7d7439ee"
      },
      "source": [
        "data.head()"
      ],
      "execution_count": 4,
      "outputs": [
        {
          "output_type": "execute_result",
          "data": {
            "text/html": [
              "<div>\n",
              "<style scoped>\n",
              "    .dataframe tbody tr th:only-of-type {\n",
              "        vertical-align: middle;\n",
              "    }\n",
              "\n",
              "    .dataframe tbody tr th {\n",
              "        vertical-align: top;\n",
              "    }\n",
              "\n",
              "    .dataframe thead th {\n",
              "        text-align: right;\n",
              "    }\n",
              "</style>\n",
              "<table border=\"1\" class=\"dataframe\">\n",
              "  <thead>\n",
              "    <tr style=\"text-align: right;\">\n",
              "      <th></th>\n",
              "      <th>holiday</th>\n",
              "      <th>temp</th>\n",
              "      <th>rain_1h</th>\n",
              "      <th>snow_1h</th>\n",
              "      <th>Year</th>\n",
              "      <th>Month</th>\n",
              "      <th>Day</th>\n",
              "      <th>Hour</th>\n",
              "      <th>weather_main</th>\n",
              "      <th>weather_description</th>\n",
              "      <th>traffic_volume</th>\n",
              "    </tr>\n",
              "  </thead>\n",
              "  <tbody>\n",
              "    <tr>\n",
              "      <th>0</th>\n",
              "      <td>None</td>\n",
              "      <td>288.28</td>\n",
              "      <td>0.0</td>\n",
              "      <td>0.0</td>\n",
              "      <td>2012</td>\n",
              "      <td>10</td>\n",
              "      <td>2</td>\n",
              "      <td>9</td>\n",
              "      <td>Clouds</td>\n",
              "      <td>scattered clouds</td>\n",
              "      <td>5545</td>\n",
              "    </tr>\n",
              "    <tr>\n",
              "      <th>1</th>\n",
              "      <td>None</td>\n",
              "      <td>289.36</td>\n",
              "      <td>0.0</td>\n",
              "      <td>0.0</td>\n",
              "      <td>2012</td>\n",
              "      <td>10</td>\n",
              "      <td>2</td>\n",
              "      <td>10</td>\n",
              "      <td>Clouds</td>\n",
              "      <td>broken clouds</td>\n",
              "      <td>4516</td>\n",
              "    </tr>\n",
              "    <tr>\n",
              "      <th>2</th>\n",
              "      <td>None</td>\n",
              "      <td>289.58</td>\n",
              "      <td>0.0</td>\n",
              "      <td>0.0</td>\n",
              "      <td>2012</td>\n",
              "      <td>10</td>\n",
              "      <td>2</td>\n",
              "      <td>11</td>\n",
              "      <td>Clouds</td>\n",
              "      <td>overcast clouds</td>\n",
              "      <td>4767</td>\n",
              "    </tr>\n",
              "    <tr>\n",
              "      <th>3</th>\n",
              "      <td>None</td>\n",
              "      <td>290.13</td>\n",
              "      <td>0.0</td>\n",
              "      <td>0.0</td>\n",
              "      <td>2012</td>\n",
              "      <td>10</td>\n",
              "      <td>2</td>\n",
              "      <td>12</td>\n",
              "      <td>Clouds</td>\n",
              "      <td>overcast clouds</td>\n",
              "      <td>5026</td>\n",
              "    </tr>\n",
              "    <tr>\n",
              "      <th>4</th>\n",
              "      <td>None</td>\n",
              "      <td>291.14</td>\n",
              "      <td>0.0</td>\n",
              "      <td>0.0</td>\n",
              "      <td>2012</td>\n",
              "      <td>10</td>\n",
              "      <td>2</td>\n",
              "      <td>13</td>\n",
              "      <td>Clouds</td>\n",
              "      <td>broken clouds</td>\n",
              "      <td>4918</td>\n",
              "    </tr>\n",
              "  </tbody>\n",
              "</table>\n",
              "</div>"
            ],
            "text/plain": [
              "  holiday    temp  rain_1h  ...  weather_main  weather_description  traffic_volume\n",
              "0    None  288.28      0.0  ...        Clouds     scattered clouds            5545\n",
              "1    None  289.36      0.0  ...        Clouds        broken clouds            4516\n",
              "2    None  289.58      0.0  ...        Clouds      overcast clouds            4767\n",
              "3    None  290.13      0.0  ...        Clouds      overcast clouds            5026\n",
              "4    None  291.14      0.0  ...        Clouds        broken clouds            4918\n",
              "\n",
              "[5 rows x 11 columns]"
            ]
          },
          "metadata": {
            "tags": []
          },
          "execution_count": 4
        }
      ]
    },
    {
      "cell_type": "code",
      "metadata": {
        "id": "gowdLTA8Tmvb",
        "colab_type": "code",
        "colab": {
          "base_uri": "https://localhost:8080/",
          "height": 195
        },
        "outputId": "beeb2b70-b6dc-4fa2-d739-cc97b8520e27"
      },
      "source": [
        "data.tail()"
      ],
      "execution_count": 5,
      "outputs": [
        {
          "output_type": "execute_result",
          "data": {
            "text/html": [
              "<div>\n",
              "<style scoped>\n",
              "    .dataframe tbody tr th:only-of-type {\n",
              "        vertical-align: middle;\n",
              "    }\n",
              "\n",
              "    .dataframe tbody tr th {\n",
              "        vertical-align: top;\n",
              "    }\n",
              "\n",
              "    .dataframe thead th {\n",
              "        text-align: right;\n",
              "    }\n",
              "</style>\n",
              "<table border=\"1\" class=\"dataframe\">\n",
              "  <thead>\n",
              "    <tr style=\"text-align: right;\">\n",
              "      <th></th>\n",
              "      <th>holiday</th>\n",
              "      <th>temp</th>\n",
              "      <th>rain_1h</th>\n",
              "      <th>snow_1h</th>\n",
              "      <th>Year</th>\n",
              "      <th>Month</th>\n",
              "      <th>Day</th>\n",
              "      <th>Hour</th>\n",
              "      <th>weather_main</th>\n",
              "      <th>weather_description</th>\n",
              "      <th>traffic_volume</th>\n",
              "    </tr>\n",
              "  </thead>\n",
              "  <tbody>\n",
              "    <tr>\n",
              "      <th>48199</th>\n",
              "      <td>None</td>\n",
              "      <td>283.45</td>\n",
              "      <td>0.0</td>\n",
              "      <td>0.0</td>\n",
              "      <td>2018</td>\n",
              "      <td>9</td>\n",
              "      <td>30</td>\n",
              "      <td>19</td>\n",
              "      <td>Clouds</td>\n",
              "      <td>broken clouds</td>\n",
              "      <td>3543</td>\n",
              "    </tr>\n",
              "    <tr>\n",
              "      <th>48200</th>\n",
              "      <td>None</td>\n",
              "      <td>282.76</td>\n",
              "      <td>0.0</td>\n",
              "      <td>0.0</td>\n",
              "      <td>2018</td>\n",
              "      <td>9</td>\n",
              "      <td>30</td>\n",
              "      <td>20</td>\n",
              "      <td>Clouds</td>\n",
              "      <td>overcast clouds</td>\n",
              "      <td>2781</td>\n",
              "    </tr>\n",
              "    <tr>\n",
              "      <th>48201</th>\n",
              "      <td>None</td>\n",
              "      <td>282.73</td>\n",
              "      <td>0.0</td>\n",
              "      <td>0.0</td>\n",
              "      <td>2018</td>\n",
              "      <td>9</td>\n",
              "      <td>30</td>\n",
              "      <td>21</td>\n",
              "      <td>Thunderstorm</td>\n",
              "      <td>proximity thunderstorm</td>\n",
              "      <td>2159</td>\n",
              "    </tr>\n",
              "    <tr>\n",
              "      <th>48202</th>\n",
              "      <td>None</td>\n",
              "      <td>282.09</td>\n",
              "      <td>0.0</td>\n",
              "      <td>0.0</td>\n",
              "      <td>2018</td>\n",
              "      <td>9</td>\n",
              "      <td>30</td>\n",
              "      <td>22</td>\n",
              "      <td>Clouds</td>\n",
              "      <td>overcast clouds</td>\n",
              "      <td>1450</td>\n",
              "    </tr>\n",
              "    <tr>\n",
              "      <th>48203</th>\n",
              "      <td>None</td>\n",
              "      <td>282.12</td>\n",
              "      <td>0.0</td>\n",
              "      <td>0.0</td>\n",
              "      <td>2018</td>\n",
              "      <td>9</td>\n",
              "      <td>30</td>\n",
              "      <td>23</td>\n",
              "      <td>Clouds</td>\n",
              "      <td>overcast clouds</td>\n",
              "      <td>954</td>\n",
              "    </tr>\n",
              "  </tbody>\n",
              "</table>\n",
              "</div>"
            ],
            "text/plain": [
              "      holiday    temp  ...     weather_description  traffic_volume\n",
              "48199    None  283.45  ...           broken clouds            3543\n",
              "48200    None  282.76  ...         overcast clouds            2781\n",
              "48201    None  282.73  ...  proximity thunderstorm            2159\n",
              "48202    None  282.09  ...         overcast clouds            1450\n",
              "48203    None  282.12  ...         overcast clouds             954\n",
              "\n",
              "[5 rows x 11 columns]"
            ]
          },
          "metadata": {
            "tags": []
          },
          "execution_count": 5
        }
      ]
    },
    {
      "cell_type": "code",
      "metadata": {
        "id": "DfmbU1j7Tqtg",
        "colab_type": "code",
        "colab": {}
      },
      "source": [
        "le =LabelEncoder()"
      ],
      "execution_count": 6,
      "outputs": []
    },
    {
      "cell_type": "code",
      "metadata": {
        "id": "XvOKg_HDTtCR",
        "colab_type": "code",
        "colab": {}
      },
      "source": [
        "Holiday_labels = le.fit_transform(data['holiday'])"
      ],
      "execution_count": 7,
      "outputs": []
    },
    {
      "cell_type": "code",
      "metadata": {
        "id": "wWH0qlFXTvGp",
        "colab_type": "code",
        "colab": {
          "base_uri": "https://localhost:8080/",
          "height": 218
        },
        "outputId": "3ef3716b-72db-43a7-a4d6-f3521149b248"
      },
      "source": [
        "{index: label for index , label in enumerate(le.classes_)}"
      ],
      "execution_count": 8,
      "outputs": [
        {
          "output_type": "execute_result",
          "data": {
            "text/plain": [
              "{0: 'Christmas Day',\n",
              " 1: 'Columbus Day',\n",
              " 2: 'Independence Day',\n",
              " 3: 'Labor Day',\n",
              " 4: 'Martin Luther King Jr Day',\n",
              " 5: 'Memorial Day',\n",
              " 6: 'New Years Day',\n",
              " 7: 'None',\n",
              " 8: 'State Fair',\n",
              " 9: 'Thanksgiving Day',\n",
              " 10: 'Veterans Day',\n",
              " 11: 'Washingtons Birthday'}"
            ]
          },
          "metadata": {
            "tags": []
          },
          "execution_count": 8
        }
      ]
    },
    {
      "cell_type": "code",
      "metadata": {
        "id": "ShWirVg-TxkS",
        "colab_type": "code",
        "colab": {}
      },
      "source": [
        "\n",
        "weather_main = le.fit_transform(data['weather_main'])"
      ],
      "execution_count": 9,
      "outputs": []
    },
    {
      "cell_type": "code",
      "metadata": {
        "id": "OTIStWRYT0EZ",
        "colab_type": "code",
        "colab": {
          "base_uri": "https://localhost:8080/",
          "height": 202
        },
        "outputId": "180284b2-0b0e-4486-f393-bd8927999e7e"
      },
      "source": [
        "{index: label for index , label in enumerate(le.classes_)}"
      ],
      "execution_count": 10,
      "outputs": [
        {
          "output_type": "execute_result",
          "data": {
            "text/plain": [
              "{0: 'Clear',\n",
              " 1: 'Clouds',\n",
              " 2: 'Drizzle',\n",
              " 3: 'Fog',\n",
              " 4: 'Haze',\n",
              " 5: 'Mist',\n",
              " 6: 'Rain',\n",
              " 7: 'Smoke',\n",
              " 8: 'Snow',\n",
              " 9: 'Squall',\n",
              " 10: 'Thunderstorm'}"
            ]
          },
          "metadata": {
            "tags": []
          },
          "execution_count": 10
        }
      ]
    },
    {
      "cell_type": "code",
      "metadata": {
        "id": "wq8YIQo6T2Y0",
        "colab_type": "code",
        "colab": {}
      },
      "source": [
        "weather_description = le.fit_transform(data['weather_description'])"
      ],
      "execution_count": 11,
      "outputs": []
    },
    {
      "cell_type": "code",
      "metadata": {
        "id": "czsMGFDET4ll",
        "colab_type": "code",
        "colab": {
          "base_uri": "https://localhost:8080/",
          "height": 655
        },
        "outputId": "1eb2f46c-b86f-4239-df69-25a2fd8c2e57"
      },
      "source": [
        "{index: label for index , label in enumerate(le.classes_)}"
      ],
      "execution_count": 12,
      "outputs": [
        {
          "output_type": "execute_result",
          "data": {
            "text/plain": [
              "{0: 'SQUALLS',\n",
              " 1: 'Sky is Clear',\n",
              " 2: 'broken clouds',\n",
              " 3: 'drizzle',\n",
              " 4: 'few clouds',\n",
              " 5: 'fog',\n",
              " 6: 'freezing rain',\n",
              " 7: 'haze',\n",
              " 8: 'heavy intensity drizzle',\n",
              " 9: 'heavy intensity rain',\n",
              " 10: 'heavy snow',\n",
              " 11: 'light intensity drizzle',\n",
              " 12: 'light intensity shower rain',\n",
              " 13: 'light rain',\n",
              " 14: 'light rain and snow',\n",
              " 15: 'light shower snow',\n",
              " 16: 'light snow',\n",
              " 17: 'mist',\n",
              " 18: 'moderate rain',\n",
              " 19: 'overcast clouds',\n",
              " 20: 'proximity shower rain',\n",
              " 21: 'proximity thunderstorm',\n",
              " 22: 'proximity thunderstorm with drizzle',\n",
              " 23: 'proximity thunderstorm with rain',\n",
              " 24: 'scattered clouds',\n",
              " 25: 'shower drizzle',\n",
              " 26: 'shower snow',\n",
              " 27: 'sky is clear',\n",
              " 28: 'sleet',\n",
              " 29: 'smoke',\n",
              " 30: 'snow',\n",
              " 31: 'thunderstorm',\n",
              " 32: 'thunderstorm with drizzle',\n",
              " 33: 'thunderstorm with heavy rain',\n",
              " 34: 'thunderstorm with light drizzle',\n",
              " 35: 'thunderstorm with light rain',\n",
              " 36: 'thunderstorm with rain',\n",
              " 37: 'very heavy rain'}"
            ]
          },
          "metadata": {
            "tags": []
          },
          "execution_count": 12
        }
      ]
    },
    {
      "cell_type": "code",
      "metadata": {
        "id": "3Is3xxnJUFfA",
        "colab_type": "code",
        "colab": {}
      },
      "source": [
        "data['holiday'] = le.fit_transform(data['holiday'])\n",
        "data['weather_main'] = le.fit_transform(data['weather_main'])\n",
        "data['weather_description'] = le.fit_transform(data['weather_description'])"
      ],
      "execution_count": 13,
      "outputs": []
    },
    {
      "cell_type": "code",
      "metadata": {
        "id": "ZMUbFGVgUJ_Q",
        "colab_type": "code",
        "colab": {
          "base_uri": "https://localhost:8080/",
          "height": 195
        },
        "outputId": "a91ebaa1-8d6e-4bbb-9c63-b92de6e0558b"
      },
      "source": [
        "data.head()"
      ],
      "execution_count": 14,
      "outputs": [
        {
          "output_type": "execute_result",
          "data": {
            "text/html": [
              "<div>\n",
              "<style scoped>\n",
              "    .dataframe tbody tr th:only-of-type {\n",
              "        vertical-align: middle;\n",
              "    }\n",
              "\n",
              "    .dataframe tbody tr th {\n",
              "        vertical-align: top;\n",
              "    }\n",
              "\n",
              "    .dataframe thead th {\n",
              "        text-align: right;\n",
              "    }\n",
              "</style>\n",
              "<table border=\"1\" class=\"dataframe\">\n",
              "  <thead>\n",
              "    <tr style=\"text-align: right;\">\n",
              "      <th></th>\n",
              "      <th>holiday</th>\n",
              "      <th>temp</th>\n",
              "      <th>rain_1h</th>\n",
              "      <th>snow_1h</th>\n",
              "      <th>Year</th>\n",
              "      <th>Month</th>\n",
              "      <th>Day</th>\n",
              "      <th>Hour</th>\n",
              "      <th>weather_main</th>\n",
              "      <th>weather_description</th>\n",
              "      <th>traffic_volume</th>\n",
              "    </tr>\n",
              "  </thead>\n",
              "  <tbody>\n",
              "    <tr>\n",
              "      <th>0</th>\n",
              "      <td>7</td>\n",
              "      <td>288.28</td>\n",
              "      <td>0.0</td>\n",
              "      <td>0.0</td>\n",
              "      <td>2012</td>\n",
              "      <td>10</td>\n",
              "      <td>2</td>\n",
              "      <td>9</td>\n",
              "      <td>1</td>\n",
              "      <td>24</td>\n",
              "      <td>5545</td>\n",
              "    </tr>\n",
              "    <tr>\n",
              "      <th>1</th>\n",
              "      <td>7</td>\n",
              "      <td>289.36</td>\n",
              "      <td>0.0</td>\n",
              "      <td>0.0</td>\n",
              "      <td>2012</td>\n",
              "      <td>10</td>\n",
              "      <td>2</td>\n",
              "      <td>10</td>\n",
              "      <td>1</td>\n",
              "      <td>2</td>\n",
              "      <td>4516</td>\n",
              "    </tr>\n",
              "    <tr>\n",
              "      <th>2</th>\n",
              "      <td>7</td>\n",
              "      <td>289.58</td>\n",
              "      <td>0.0</td>\n",
              "      <td>0.0</td>\n",
              "      <td>2012</td>\n",
              "      <td>10</td>\n",
              "      <td>2</td>\n",
              "      <td>11</td>\n",
              "      <td>1</td>\n",
              "      <td>19</td>\n",
              "      <td>4767</td>\n",
              "    </tr>\n",
              "    <tr>\n",
              "      <th>3</th>\n",
              "      <td>7</td>\n",
              "      <td>290.13</td>\n",
              "      <td>0.0</td>\n",
              "      <td>0.0</td>\n",
              "      <td>2012</td>\n",
              "      <td>10</td>\n",
              "      <td>2</td>\n",
              "      <td>12</td>\n",
              "      <td>1</td>\n",
              "      <td>19</td>\n",
              "      <td>5026</td>\n",
              "    </tr>\n",
              "    <tr>\n",
              "      <th>4</th>\n",
              "      <td>7</td>\n",
              "      <td>291.14</td>\n",
              "      <td>0.0</td>\n",
              "      <td>0.0</td>\n",
              "      <td>2012</td>\n",
              "      <td>10</td>\n",
              "      <td>2</td>\n",
              "      <td>13</td>\n",
              "      <td>1</td>\n",
              "      <td>2</td>\n",
              "      <td>4918</td>\n",
              "    </tr>\n",
              "  </tbody>\n",
              "</table>\n",
              "</div>"
            ],
            "text/plain": [
              "   holiday    temp  rain_1h  ...  weather_main  weather_description  traffic_volume\n",
              "0        7  288.28      0.0  ...             1                   24            5545\n",
              "1        7  289.36      0.0  ...             1                    2            4516\n",
              "2        7  289.58      0.0  ...             1                   19            4767\n",
              "3        7  290.13      0.0  ...             1                   19            5026\n",
              "4        7  291.14      0.0  ...             1                    2            4918\n",
              "\n",
              "[5 rows x 11 columns]"
            ]
          },
          "metadata": {
            "tags": []
          },
          "execution_count": 14
        }
      ]
    },
    {
      "cell_type": "code",
      "metadata": {
        "id": "0KIifuhGUMde",
        "colab_type": "code",
        "colab": {}
      },
      "source": [
        "data.to_csv('Metro-Interstate-Traffic-Volume-Encoded.csv',header=True,index=False)"
      ],
      "execution_count": 29,
      "outputs": []
    },
    {
      "cell_type": "code",
      "metadata": {
        "id": "DZGee1viUQlQ",
        "colab_type": "code",
        "colab": {}
      },
      "source": [
        "stdscalar = StandardScaler()"
      ],
      "execution_count": 16,
      "outputs": []
    },
    {
      "cell_type": "code",
      "metadata": {
        "id": "jf34USXxUTBY",
        "colab_type": "code",
        "colab": {}
      },
      "source": [
        "data_stdscalar = stdscalar.fit_transform(data)"
      ],
      "execution_count": 17,
      "outputs": []
    },
    {
      "cell_type": "code",
      "metadata": {
        "id": "MNX6r41cUVf6",
        "colab_type": "code",
        "colab": {}
      },
      "source": [
        "data_stdscalar = pd.DataFrame(data_stdscalar,columns=data.columns)"
      ],
      "execution_count": 18,
      "outputs": []
    },
    {
      "cell_type": "code",
      "metadata": {
        "id": "bWuVeW8iUXuB",
        "colab_type": "code",
        "colab": {
          "base_uri": "https://localhost:8080/",
          "height": 195
        },
        "outputId": "a05b782a-1813-4aa1-d221-4259d812ef74"
      },
      "source": [
        "data_stdscalar.head()"
      ],
      "execution_count": 19,
      "outputs": [
        {
          "output_type": "execute_result",
          "data": {
            "text/html": [
              "<div>\n",
              "<style scoped>\n",
              "    .dataframe tbody tr th:only-of-type {\n",
              "        vertical-align: middle;\n",
              "    }\n",
              "\n",
              "    .dataframe tbody tr th {\n",
              "        vertical-align: top;\n",
              "    }\n",
              "\n",
              "    .dataframe thead th {\n",
              "        text-align: right;\n",
              "    }\n",
              "</style>\n",
              "<table border=\"1\" class=\"dataframe\">\n",
              "  <thead>\n",
              "    <tr style=\"text-align: right;\">\n",
              "      <th></th>\n",
              "      <th>holiday</th>\n",
              "      <th>temp</th>\n",
              "      <th>rain_1h</th>\n",
              "      <th>snow_1h</th>\n",
              "      <th>Year</th>\n",
              "      <th>Month</th>\n",
              "      <th>Day</th>\n",
              "      <th>Hour</th>\n",
              "      <th>weather_main</th>\n",
              "      <th>weather_description</th>\n",
              "      <th>traffic_volume</th>\n",
              "    </tr>\n",
              "  </thead>\n",
              "  <tbody>\n",
              "    <tr>\n",
              "      <th>0</th>\n",
              "      <td>0.015856</td>\n",
              "      <td>0.552256</td>\n",
              "      <td>-0.129524</td>\n",
              "      <td>-0.027228</td>\n",
              "      <td>-1.855294</td>\n",
              "      <td>1.02758</td>\n",
              "      <td>-1.574903</td>\n",
              "      <td>-0.345548</td>\n",
              "      <td>-0.566905</td>\n",
              "      <td>0.831600</td>\n",
              "      <td>1.150159</td>\n",
              "    </tr>\n",
              "    <tr>\n",
              "      <th>1</th>\n",
              "      <td>0.015856</td>\n",
              "      <td>0.637205</td>\n",
              "      <td>-0.129524</td>\n",
              "      <td>-0.027228</td>\n",
              "      <td>-1.855294</td>\n",
              "      <td>1.02758</td>\n",
              "      <td>-1.574903</td>\n",
              "      <td>-0.201459</td>\n",
              "      <td>-0.566905</td>\n",
              "      <td>-1.621016</td>\n",
              "      <td>0.632251</td>\n",
              "    </tr>\n",
              "    <tr>\n",
              "      <th>2</th>\n",
              "      <td>0.015856</td>\n",
              "      <td>0.654509</td>\n",
              "      <td>-0.129524</td>\n",
              "      <td>-0.027228</td>\n",
              "      <td>-1.855294</td>\n",
              "      <td>1.02758</td>\n",
              "      <td>-1.574903</td>\n",
              "      <td>-0.057371</td>\n",
              "      <td>-0.566905</td>\n",
              "      <td>0.274187</td>\n",
              "      <td>0.758582</td>\n",
              "    </tr>\n",
              "    <tr>\n",
              "      <th>3</th>\n",
              "      <td>0.015856</td>\n",
              "      <td>0.697770</td>\n",
              "      <td>-0.129524</td>\n",
              "      <td>-0.027228</td>\n",
              "      <td>-1.855294</td>\n",
              "      <td>1.02758</td>\n",
              "      <td>-1.574903</td>\n",
              "      <td>0.086718</td>\n",
              "      <td>-0.566905</td>\n",
              "      <td>0.274187</td>\n",
              "      <td>0.888940</td>\n",
              "    </tr>\n",
              "    <tr>\n",
              "      <th>4</th>\n",
              "      <td>0.015856</td>\n",
              "      <td>0.777214</td>\n",
              "      <td>-0.129524</td>\n",
              "      <td>-0.027228</td>\n",
              "      <td>-1.855294</td>\n",
              "      <td>1.02758</td>\n",
              "      <td>-1.574903</td>\n",
              "      <td>0.230807</td>\n",
              "      <td>-0.566905</td>\n",
              "      <td>-1.621016</td>\n",
              "      <td>0.834582</td>\n",
              "    </tr>\n",
              "  </tbody>\n",
              "</table>\n",
              "</div>"
            ],
            "text/plain": [
              "    holiday      temp  ...  weather_description  traffic_volume\n",
              "0  0.015856  0.552256  ...             0.831600        1.150159\n",
              "1  0.015856  0.637205  ...            -1.621016        0.632251\n",
              "2  0.015856  0.654509  ...             0.274187        0.758582\n",
              "3  0.015856  0.697770  ...             0.274187        0.888940\n",
              "4  0.015856  0.777214  ...            -1.621016        0.834582\n",
              "\n",
              "[5 rows x 11 columns]"
            ]
          },
          "metadata": {
            "tags": []
          },
          "execution_count": 19
        }
      ]
    },
    {
      "cell_type": "code",
      "metadata": {
        "id": "ZhXp2UM-Uamb",
        "colab_type": "code",
        "colab": {}
      },
      "source": [
        "MinMax = MinMaxScaler()"
      ],
      "execution_count": 20,
      "outputs": []
    },
    {
      "cell_type": "code",
      "metadata": {
        "id": "SRQl1FeGUdI6",
        "colab_type": "code",
        "colab": {}
      },
      "source": [
        "data_MinMax = MinMax.fit_transform(data)"
      ],
      "execution_count": 21,
      "outputs": []
    },
    {
      "cell_type": "code",
      "metadata": {
        "id": "cMZ6PdREUfVb",
        "colab_type": "code",
        "colab": {}
      },
      "source": [
        "\n",
        "data_MinMax = pd.DataFrame(data_MinMax,columns=data.columns)"
      ],
      "execution_count": 22,
      "outputs": []
    },
    {
      "cell_type": "code",
      "metadata": {
        "id": "lcLMb436UhoZ",
        "colab_type": "code",
        "colab": {
          "base_uri": "https://localhost:8080/",
          "height": 195
        },
        "outputId": "6a6bb28c-fb7e-4570-b0c9-4a317ccaef8d"
      },
      "source": [
        "data_MinMax.head()"
      ],
      "execution_count": 23,
      "outputs": [
        {
          "output_type": "execute_result",
          "data": {
            "text/html": [
              "<div>\n",
              "<style scoped>\n",
              "    .dataframe tbody tr th:only-of-type {\n",
              "        vertical-align: middle;\n",
              "    }\n",
              "\n",
              "    .dataframe tbody tr th {\n",
              "        vertical-align: top;\n",
              "    }\n",
              "\n",
              "    .dataframe thead th {\n",
              "        text-align: right;\n",
              "    }\n",
              "</style>\n",
              "<table border=\"1\" class=\"dataframe\">\n",
              "  <thead>\n",
              "    <tr style=\"text-align: right;\">\n",
              "      <th></th>\n",
              "      <th>holiday</th>\n",
              "      <th>temp</th>\n",
              "      <th>rain_1h</th>\n",
              "      <th>snow_1h</th>\n",
              "      <th>Year</th>\n",
              "      <th>Month</th>\n",
              "      <th>Day</th>\n",
              "      <th>Hour</th>\n",
              "      <th>weather_main</th>\n",
              "      <th>weather_description</th>\n",
              "      <th>traffic_volume</th>\n",
              "    </tr>\n",
              "  </thead>\n",
              "  <tbody>\n",
              "    <tr>\n",
              "      <th>0</th>\n",
              "      <td>0.636364</td>\n",
              "      <td>0.673215</td>\n",
              "      <td>0.0</td>\n",
              "      <td>0.0</td>\n",
              "      <td>0.0</td>\n",
              "      <td>0.818182</td>\n",
              "      <td>0.033333</td>\n",
              "      <td>0.391304</td>\n",
              "      <td>0.1</td>\n",
              "      <td>0.648649</td>\n",
              "      <td>0.761676</td>\n",
              "    </tr>\n",
              "    <tr>\n",
              "      <th>1</th>\n",
              "      <td>0.636364</td>\n",
              "      <td>0.689412</td>\n",
              "      <td>0.0</td>\n",
              "      <td>0.0</td>\n",
              "      <td>0.0</td>\n",
              "      <td>0.818182</td>\n",
              "      <td>0.033333</td>\n",
              "      <td>0.434783</td>\n",
              "      <td>0.1</td>\n",
              "      <td>0.054054</td>\n",
              "      <td>0.620330</td>\n",
              "    </tr>\n",
              "    <tr>\n",
              "      <th>2</th>\n",
              "      <td>0.636364</td>\n",
              "      <td>0.692711</td>\n",
              "      <td>0.0</td>\n",
              "      <td>0.0</td>\n",
              "      <td>0.0</td>\n",
              "      <td>0.818182</td>\n",
              "      <td>0.033333</td>\n",
              "      <td>0.478261</td>\n",
              "      <td>0.1</td>\n",
              "      <td>0.513514</td>\n",
              "      <td>0.654808</td>\n",
              "    </tr>\n",
              "    <tr>\n",
              "      <th>3</th>\n",
              "      <td>0.636364</td>\n",
              "      <td>0.700960</td>\n",
              "      <td>0.0</td>\n",
              "      <td>0.0</td>\n",
              "      <td>0.0</td>\n",
              "      <td>0.818182</td>\n",
              "      <td>0.033333</td>\n",
              "      <td>0.521739</td>\n",
              "      <td>0.1</td>\n",
              "      <td>0.513514</td>\n",
              "      <td>0.690385</td>\n",
              "    </tr>\n",
              "    <tr>\n",
              "      <th>4</th>\n",
              "      <td>0.636364</td>\n",
              "      <td>0.716107</td>\n",
              "      <td>0.0</td>\n",
              "      <td>0.0</td>\n",
              "      <td>0.0</td>\n",
              "      <td>0.818182</td>\n",
              "      <td>0.033333</td>\n",
              "      <td>0.565217</td>\n",
              "      <td>0.1</td>\n",
              "      <td>0.054054</td>\n",
              "      <td>0.675549</td>\n",
              "    </tr>\n",
              "  </tbody>\n",
              "</table>\n",
              "</div>"
            ],
            "text/plain": [
              "    holiday      temp  ...  weather_description  traffic_volume\n",
              "0  0.636364  0.673215  ...             0.648649        0.761676\n",
              "1  0.636364  0.689412  ...             0.054054        0.620330\n",
              "2  0.636364  0.692711  ...             0.513514        0.654808\n",
              "3  0.636364  0.700960  ...             0.513514        0.690385\n",
              "4  0.636364  0.716107  ...             0.054054        0.675549\n",
              "\n",
              "[5 rows x 11 columns]"
            ]
          },
          "metadata": {
            "tags": []
          },
          "execution_count": 23
        }
      ]
    },
    {
      "cell_type": "code",
      "metadata": {
        "id": "gEzvh8B6UkM6",
        "colab_type": "code",
        "colab": {}
      },
      "source": [
        "Robust = RobustScaler()"
      ],
      "execution_count": 24,
      "outputs": []
    },
    {
      "cell_type": "code",
      "metadata": {
        "id": "hmoHc-_NUmYE",
        "colab_type": "code",
        "colab": {}
      },
      "source": [
        "data_Robust = Robust.fit_transform(data)"
      ],
      "execution_count": 25,
      "outputs": []
    },
    {
      "cell_type": "code",
      "metadata": {
        "id": "YakUZ2G-Uo0y",
        "colab_type": "code",
        "colab": {}
      },
      "source": [
        "data_Robust = pd.DataFrame(data_Robust,columns=data.columns)\n"
      ],
      "execution_count": 26,
      "outputs": []
    },
    {
      "cell_type": "code",
      "metadata": {
        "id": "BHMHaYLhUrFt",
        "colab_type": "code",
        "colab": {
          "base_uri": "https://localhost:8080/",
          "height": 195
        },
        "outputId": "afc57eb2-b97f-466a-e107-d0762508d5ee"
      },
      "source": [
        "data_Robust.head()"
      ],
      "execution_count": 27,
      "outputs": [
        {
          "output_type": "execute_result",
          "data": {
            "text/html": [
              "<div>\n",
              "<style scoped>\n",
              "    .dataframe tbody tr th:only-of-type {\n",
              "        vertical-align: middle;\n",
              "    }\n",
              "\n",
              "    .dataframe tbody tr th {\n",
              "        vertical-align: top;\n",
              "    }\n",
              "\n",
              "    .dataframe thead th {\n",
              "        text-align: right;\n",
              "    }\n",
              "</style>\n",
              "<table border=\"1\" class=\"dataframe\">\n",
              "  <thead>\n",
              "    <tr style=\"text-align: right;\">\n",
              "      <th></th>\n",
              "      <th>holiday</th>\n",
              "      <th>temp</th>\n",
              "      <th>rain_1h</th>\n",
              "      <th>snow_1h</th>\n",
              "      <th>Year</th>\n",
              "      <th>Month</th>\n",
              "      <th>Day</th>\n",
              "      <th>Hour</th>\n",
              "      <th>weather_main</th>\n",
              "      <th>weather_description</th>\n",
              "      <th>traffic_volume</th>\n",
              "    </tr>\n",
              "  </thead>\n",
              "  <tbody>\n",
              "    <tr>\n",
              "      <th>0</th>\n",
              "      <td>0.0</td>\n",
              "      <td>0.296753</td>\n",
              "      <td>0.0</td>\n",
              "      <td>0.0</td>\n",
              "      <td>-1.333333</td>\n",
              "      <td>0.6</td>\n",
              "      <td>-0.933333</td>\n",
              "      <td>-0.166667</td>\n",
              "      <td>0.0</td>\n",
              "      <td>0.411765</td>\n",
              "      <td>0.578877</td>\n",
              "    </tr>\n",
              "    <tr>\n",
              "      <th>1</th>\n",
              "      <td>0.0</td>\n",
              "      <td>0.351726</td>\n",
              "      <td>0.0</td>\n",
              "      <td>0.0</td>\n",
              "      <td>-1.333333</td>\n",
              "      <td>0.6</td>\n",
              "      <td>-0.933333</td>\n",
              "      <td>-0.083333</td>\n",
              "      <td>0.0</td>\n",
              "      <td>-0.882353</td>\n",
              "      <td>0.303743</td>\n",
              "    </tr>\n",
              "    <tr>\n",
              "      <th>2</th>\n",
              "      <td>0.0</td>\n",
              "      <td>0.362924</td>\n",
              "      <td>0.0</td>\n",
              "      <td>0.0</td>\n",
              "      <td>-1.333333</td>\n",
              "      <td>0.6</td>\n",
              "      <td>-0.933333</td>\n",
              "      <td>0.000000</td>\n",
              "      <td>0.0</td>\n",
              "      <td>0.117647</td>\n",
              "      <td>0.370856</td>\n",
              "    </tr>\n",
              "    <tr>\n",
              "      <th>3</th>\n",
              "      <td>0.0</td>\n",
              "      <td>0.390919</td>\n",
              "      <td>0.0</td>\n",
              "      <td>0.0</td>\n",
              "      <td>-1.333333</td>\n",
              "      <td>0.6</td>\n",
              "      <td>-0.933333</td>\n",
              "      <td>0.083333</td>\n",
              "      <td>0.0</td>\n",
              "      <td>0.117647</td>\n",
              "      <td>0.440107</td>\n",
              "    </tr>\n",
              "    <tr>\n",
              "      <th>4</th>\n",
              "      <td>0.0</td>\n",
              "      <td>0.442329</td>\n",
              "      <td>0.0</td>\n",
              "      <td>0.0</td>\n",
              "      <td>-1.333333</td>\n",
              "      <td>0.6</td>\n",
              "      <td>-0.933333</td>\n",
              "      <td>0.166667</td>\n",
              "      <td>0.0</td>\n",
              "      <td>-0.882353</td>\n",
              "      <td>0.411230</td>\n",
              "    </tr>\n",
              "  </tbody>\n",
              "</table>\n",
              "</div>"
            ],
            "text/plain": [
              "   holiday      temp  ...  weather_description  traffic_volume\n",
              "0      0.0  0.296753  ...             0.411765        0.578877\n",
              "1      0.0  0.351726  ...            -0.882353        0.303743\n",
              "2      0.0  0.362924  ...             0.117647        0.370856\n",
              "3      0.0  0.390919  ...             0.117647        0.440107\n",
              "4      0.0  0.442329  ...            -0.882353        0.411230\n",
              "\n",
              "[5 rows x 11 columns]"
            ]
          },
          "metadata": {
            "tags": []
          },
          "execution_count": 27
        }
      ]
    }
  ]
}