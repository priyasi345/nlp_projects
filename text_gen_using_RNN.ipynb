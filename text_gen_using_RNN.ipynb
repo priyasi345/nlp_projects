{
  "nbformat": 4,
  "nbformat_minor": 0,
  "metadata": {
    "colab": {
      "name": "text_gen_using_RNN",
      "provenance": []
    },
    "kernelspec": {
      "name": "python3",
      "display_name": "Python 3"
    }
  },
  "cells": [
    {
      "cell_type": "code",
      "metadata": {
        "id": "SnjIuI8wSmvE",
        "colab_type": "code",
        "colab": {}
      },
      "source": [
        "# Selecting Tensorflow version v2 (the command is relevant for Colab only).\n",
        "# %tensorflow_version 2.x"
      ],
      "execution_count": 1,
      "outputs": []
    },
    {
      "cell_type": "code",
      "metadata": {
        "id": "NTws9CtmSsEY",
        "colab_type": "code",
        "colab": {
          "base_uri": "https://localhost:8080/",
          "height": 67
        },
        "outputId": "d7c0bc78-5eec-4b0e-a2e4-16f78de18876"
      },
      "source": [
        "import tensorflow as tf\n",
        "import matplotlib.pyplot as plt\n",
        "import numpy as np\n",
        "import platform\n",
        "import time\n",
        "import pathlib\n",
        "import os\n",
        "\n",
        "print('Python version:', platform.python_version())\n",
        "print('Tensorflow version:', tf.__version__)\n",
        "print('Keras version:', tf.keras.__version__)"
      ],
      "execution_count": 2,
      "outputs": [
        {
          "output_type": "stream",
          "text": [
            "Python version: 3.6.9\n",
            "Tensorflow version: 2.2.0\n",
            "Keras version: 2.3.0-tf\n"
          ],
          "name": "stdout"
        }
      ]
    },
    {
      "cell_type": "markdown",
      "metadata": {
        "id": "PoHu8u2XUxN-",
        "colab_type": "text"
      },
      "source": [
        "Download the dataset"
      ]
    },
    {
      "cell_type": "code",
      "metadata": {
        "id": "hD1cU7YASxWH",
        "colab_type": "code",
        "colab": {
          "base_uri": "https://localhost:8080/",
          "height": 67
        },
        "outputId": "ca844700-7465-40c1-c5fe-f94d208ba23a"
      },
      "source": [
        "cache_dir = './tmp'\n",
        "dataset_file_name = 'shakespeare.txt'\n",
        "dataset_file_origin = 'https://storage.googleapis.com/download.tensorflow.org/data/shakespeare.txt'\n",
        "\n",
        "dataset_file_path = tf.keras.utils.get_file(\n",
        "    fname=dataset_file_name,\n",
        "    origin=dataset_file_origin,\n",
        "    cache_dir=pathlib.Path(cache_dir).absolute()\n",
        ")\n",
        "\n",
        "print(dataset_file_path)"
      ],
      "execution_count": 3,
      "outputs": [
        {
          "output_type": "stream",
          "text": [
            "Downloading data from https://storage.googleapis.com/download.tensorflow.org/data/shakespeare.txt\n",
            "1122304/1115394 [==============================] - 0s 0us/step\n",
            "/tmp/.keras/datasets/shakespeare.txt\n"
          ],
          "name": "stdout"
        }
      ]
    },
    {
      "cell_type": "markdown",
      "metadata": {
        "id": "GWs1G3t9Ut7B",
        "colab_type": "text"
      },
      "source": [
        "Analyze the dataset"
      ]
    },
    {
      "cell_type": "code",
      "metadata": {
        "id": "khyN9hh5Uazp",
        "colab_type": "code",
        "colab": {
          "base_uri": "https://localhost:8080/",
          "height": 34
        },
        "outputId": "d8880ad1-4245-417b-f9a2-4c9386df53c8"
      },
      "source": [
        "# Reading the database file.\n",
        "text = open(dataset_file_path, mode='r').read()\n",
        "\n",
        "print('Length of text: {} characters'.format(len(text)))"
      ],
      "execution_count": 4,
      "outputs": [
        {
          "output_type": "stream",
          "text": [
            "Length of text: 1115394 characters\n"
          ],
          "name": "stdout"
        }
      ]
    },
    {
      "cell_type": "code",
      "metadata": {
        "id": "2L6q_z79Ubnx",
        "colab_type": "code",
        "colab": {
          "base_uri": "https://localhost:8080/",
          "height": 269
        },
        "outputId": "e9a5a2e0-1f7c-423c-891b-e0a4abcb4c3c"
      },
      "source": [
        "# Take a look at the first 250 characters in text.\n",
        "print(text[:250])"
      ],
      "execution_count": 5,
      "outputs": [
        {
          "output_type": "stream",
          "text": [
            "First Citizen:\n",
            "Before we proceed any further, hear me speak.\n",
            "\n",
            "All:\n",
            "Speak, speak.\n",
            "\n",
            "First Citizen:\n",
            "You are all resolved rather to die than to famish?\n",
            "\n",
            "All:\n",
            "Resolved. resolved.\n",
            "\n",
            "First Citizen:\n",
            "First, you know Caius Marcius is chief enemy to the people.\n",
            "\n"
          ],
          "name": "stdout"
        }
      ]
    },
    {
      "cell_type": "code",
      "metadata": {
        "id": "tH0tvNu4UgqD",
        "colab_type": "code",
        "colab": {
          "base_uri": "https://localhost:8080/",
          "height": 70
        },
        "outputId": "558b913a-f8eb-4a79-ca1c-07a0859abc37"
      },
      "source": [
        "# The unique characters in the file\n",
        "vocab = sorted(set(text))\n",
        "\n",
        "print('{} unique characters'.format(len(vocab)))\n",
        "print('vocab:', vocab)"
      ],
      "execution_count": 6,
      "outputs": [
        {
          "output_type": "stream",
          "text": [
            "65 unique characters\n",
            "vocab: ['\\n', ' ', '!', '$', '&', \"'\", ',', '-', '.', '3', ':', ';', '?', 'A', 'B', 'C', 'D', 'E', 'F', 'G', 'H', 'I', 'J', 'K', 'L', 'M', 'N', 'O', 'P', 'Q', 'R', 'S', 'T', 'U', 'V', 'W', 'X', 'Y', 'Z', 'a', 'b', 'c', 'd', 'e', 'f', 'g', 'h', 'i', 'j', 'k', 'l', 'm', 'n', 'o', 'p', 'q', 'r', 's', 't', 'u', 'v', 'w', 'x', 'y', 'z']\n"
          ],
          "name": "stdout"
        }
      ]
    },
    {
      "cell_type": "markdown",
      "metadata": {
        "id": "vT44-YlUUm4N",
        "colab_type": "text"
      },
      "source": [
        "Process the dataset---\n",
        "Vectorize the text\n",
        "Before feeding the text to our RNN we need to convert the text from a sequence of characters to a sequence of numbers. To do so we will detect all unique characters in the text, form a vocabulary out of it and replace each character with its index in the vocabulary."
      ]
    },
    {
      "cell_type": "code",
      "metadata": {
        "id": "Ein-1_JMUjkb",
        "colab_type": "code",
        "colab": {
          "base_uri": "https://localhost:8080/",
          "height": 403
        },
        "outputId": "d4cf79e3-4da0-45dc-cb63-2e06144c9b3c"
      },
      "source": [
        "# Map characters to their indices in vocabulary.\n",
        "char2index = {char: index for index, char in enumerate(vocab)}\n",
        "\n",
        "print('{')\n",
        "for char, _ in zip(char2index, range(20)):\n",
        "    print('  {:4s}: {:3d},'.format(repr(char), char2index[char]))\n",
        "print('  ...\\n}')"
      ],
      "execution_count": 7,
      "outputs": [
        {
          "output_type": "stream",
          "text": [
            "{\n",
            "  '\\n':   0,\n",
            "  ' ' :   1,\n",
            "  '!' :   2,\n",
            "  '$' :   3,\n",
            "  '&' :   4,\n",
            "  \"'\" :   5,\n",
            "  ',' :   6,\n",
            "  '-' :   7,\n",
            "  '.' :   8,\n",
            "  '3' :   9,\n",
            "  ':' :  10,\n",
            "  ';' :  11,\n",
            "  '?' :  12,\n",
            "  'A' :  13,\n",
            "  'B' :  14,\n",
            "  'C' :  15,\n",
            "  'D' :  16,\n",
            "  'E' :  17,\n",
            "  'F' :  18,\n",
            "  'G' :  19,\n",
            "  ...\n",
            "}\n"
          ],
          "name": "stdout"
        }
      ]
    },
    {
      "cell_type": "code",
      "metadata": {
        "id": "w_xUyBWIU1nl",
        "colab_type": "code",
        "colab": {
          "base_uri": "https://localhost:8080/",
          "height": 84
        },
        "outputId": "4cf8d9df-e32b-4591-e954-0bdfdd2735e0"
      },
      "source": [
        "# Map character indices to characters from vacabulary.\n",
        "index2char = np.array(vocab)\n",
        "print(index2char)"
      ],
      "execution_count": 9,
      "outputs": [
        {
          "output_type": "stream",
          "text": [
            "['\\n' ' ' '!' '$' '&' \"'\" ',' '-' '.' '3' ':' ';' '?' 'A' 'B' 'C' 'D' 'E'\n",
            " 'F' 'G' 'H' 'I' 'J' 'K' 'L' 'M' 'N' 'O' 'P' 'Q' 'R' 'S' 'T' 'U' 'V' 'W'\n",
            " 'X' 'Y' 'Z' 'a' 'b' 'c' 'd' 'e' 'f' 'g' 'h' 'i' 'j' 'k' 'l' 'm' 'n' 'o'\n",
            " 'p' 'q' 'r' 's' 't' 'u' 'v' 'w' 'x' 'y' 'z']\n"
          ],
          "name": "stdout"
        }
      ]
    },
    {
      "cell_type": "code",
      "metadata": {
        "id": "ijmEmx8GU5UP",
        "colab_type": "code",
        "colab": {
          "base_uri": "https://localhost:8080/",
          "height": 50
        },
        "outputId": "6a811ee2-5612-4d98-a427-3a74a559abcc"
      },
      "source": [
        "# Convert chars in text to indices.\n",
        "text_as_int = np.array([char2index[char] for char in text])\n",
        "\n",
        "print('text_as_int length: {}'.format(len(text_as_int)))\n",
        "print('{} --> {}'.format(repr(text[:15]), repr(text_as_int[:15])))"
      ],
      "execution_count": 10,
      "outputs": [
        {
          "output_type": "stream",
          "text": [
            "text_as_int length: 1115394\n",
            "'First Citizen:\\n' --> array([18, 47, 56, 57, 58,  1, 15, 47, 58, 47, 64, 43, 52, 10,  0])\n"
          ],
          "name": "stdout"
        }
      ]
    },
    {
      "cell_type": "markdown",
      "metadata": {
        "id": "8Dx9glZ6U-UG",
        "colab_type": "text"
      },
      "source": [
        "Create training sequences"
      ]
    },
    {
      "cell_type": "code",
      "metadata": {
        "id": "FyAehHRHVB6e",
        "colab_type": "code",
        "colab": {
          "base_uri": "https://localhost:8080/",
          "height": 34
        },
        "outputId": "2ea30df1-f95c-4fb1-aaee-b463e9553caa"
      },
      "source": [
        "# The maximum length sentence we want for a single input in characters.\n",
        "sequence_length = 100\n",
        "examples_per_epoch = len(text) // (sequence_length + 1)\n",
        "\n",
        "print('examples_per_epoch:', examples_per_epoch)"
      ],
      "execution_count": 11,
      "outputs": [
        {
          "output_type": "stream",
          "text": [
            "examples_per_epoch: 11043\n"
          ],
          "name": "stdout"
        }
      ]
    },
    {
      "cell_type": "code",
      "metadata": {
        "id": "0D2ykflUU7YJ",
        "colab_type": "code",
        "colab": {
          "base_uri": "https://localhost:8080/",
          "height": 101
        },
        "outputId": "dafcc534-4052-40a9-fcc2-6fac63ffe16a"
      },
      "source": [
        "# Create training dataset.\n",
        "char_dataset = tf.data.Dataset.from_tensor_slices(text_as_int)\n",
        "\n",
        "for char in char_dataset.take(5):\n",
        "    print(index2char[char.numpy()])"
      ],
      "execution_count": 12,
      "outputs": [
        {
          "output_type": "stream",
          "text": [
            "F\n",
            "i\n",
            "r\n",
            "s\n",
            "t\n"
          ],
          "name": "stdout"
        }
      ]
    },
    {
      "cell_type": "code",
      "metadata": {
        "id": "M9Fgt0avWBnP",
        "colab_type": "code",
        "colab": {
          "base_uri": "https://localhost:8080/",
          "height": 134
        },
        "outputId": "36bc0b5f-932b-47ff-86e4-f66bb3979bd9"
      },
      "source": [
        "# Generate batched sequences out of the char_dataset.\n",
        "sequences = char_dataset.batch(sequence_length + 1, drop_remainder=True)\n",
        "\n",
        "# Sequences size is the same as examples_per_epoch.\n",
        "print('Sequences count: {}'.format(len(list(sequences.as_numpy_iterator()))));\n",
        "print()\n",
        "\n",
        "# Sequences examples.\n",
        "for item in sequences.take(5):\n",
        "    print(repr(''.join(index2char[item.numpy()])))"
      ],
      "execution_count": 14,
      "outputs": [
        {
          "output_type": "stream",
          "text": [
            "Sequences count: 11043\n",
            "\n",
            "'First Citizen:\\nBefore we proceed any further, hear me speak.\\n\\nAll:\\nSpeak, speak.\\n\\nFirst Citizen:\\nYou '\n",
            "'are all resolved rather to die than to famish?\\n\\nAll:\\nResolved. resolved.\\n\\nFirst Citizen:\\nFirst, you k'\n",
            "\"now Caius Marcius is chief enemy to the people.\\n\\nAll:\\nWe know't, we know't.\\n\\nFirst Citizen:\\nLet us ki\"\n",
            "\"ll him, and we'll have corn at our own price.\\nIs't a verdict?\\n\\nAll:\\nNo more talking on't; let it be d\"\n",
            "'one: away, away!\\n\\nSecond Citizen:\\nOne word, good citizens.\\n\\nFirst Citizen:\\nWe are accounted poor citi'\n"
          ],
          "name": "stdout"
        }
      ]
    },
    {
      "cell_type": "markdown",
      "metadata": {
        "id": "90rGwxVtWJov",
        "colab_type": "text"
      },
      "source": [
        "For each sequence, duplicate and shift it to form the input and target text. For example, say sequence_length is 4 and our text is Hello. The input sequence would be Hell, and the target sequence ello."
      ]
    },
    {
      "cell_type": "code",
      "metadata": {
        "id": "-VuBenjsWGyI",
        "colab_type": "code",
        "colab": {}
      },
      "source": [
        "def split_input_target(chunk):\n",
        "    input_text = chunk[:-1]\n",
        "    target_text = chunk[1:]\n",
        "    return input_text, target_text"
      ],
      "execution_count": 15,
      "outputs": []
    },
    {
      "cell_type": "code",
      "metadata": {
        "id": "bp3jPWoyWYXs",
        "colab_type": "code",
        "colab": {
          "base_uri": "https://localhost:8080/",
          "height": 34
        },
        "outputId": "182cfcbf-658f-4cef-b279-1968ae27a71f"
      },
      "source": [
        "dataset = sequences.map(split_input_target)\n",
        "\n",
        "# Dataset size is the same as examples_per_epoch.\n",
        "# But each element of a sequence is now has length of `sequence_length`\n",
        "# and not `sequence_length + 1`.\n",
        "print('dataset size: {}'.format(len(list(dataset.as_numpy_iterator()))))"
      ],
      "execution_count": 16,
      "outputs": [
        {
          "output_type": "stream",
          "text": [
            "dataset size: 11043\n"
          ],
          "name": "stdout"
        }
      ]
    },
    {
      "cell_type": "code",
      "metadata": {
        "id": "dZz9V3KFWbJs",
        "colab_type": "code",
        "colab": {
          "base_uri": "https://localhost:8080/",
          "height": 101
        },
        "outputId": "979b2c53-d519-4ad5-96c7-234f16832776"
      },
      "source": [
        "for input_example, target_example in dataset.take(1):\n",
        "    print('Input sequence size:', repr(len(input_example.numpy())))\n",
        "    print('Target sequence size:', repr(len(target_example.numpy())))\n",
        "    print()\n",
        "    print('Input:', repr(''.join(index2char[input_example.numpy()])))\n",
        "    print('Target:', repr(''.join(index2char[target_example.numpy()])))"
      ],
      "execution_count": 17,
      "outputs": [
        {
          "output_type": "stream",
          "text": [
            "Input sequence size: 100\n",
            "Target sequence size: 100\n",
            "\n",
            "Input: 'First Citizen:\\nBefore we proceed any further, hear me speak.\\n\\nAll:\\nSpeak, speak.\\n\\nFirst Citizen:\\nYou'\n",
            "Target: 'irst Citizen:\\nBefore we proceed any further, hear me speak.\\n\\nAll:\\nSpeak, speak.\\n\\nFirst Citizen:\\nYou '\n"
          ],
          "name": "stdout"
        }
      ]
    },
    {
      "cell_type": "code",
      "metadata": {
        "id": "uhmAgwM7Wtg6",
        "colab_type": "code",
        "colab": {
          "base_uri": "https://localhost:8080/",
          "height": 269
        },
        "outputId": "0167ee39-ab0e-4dbf-fbb1-c4478e56b3e7"
      },
      "source": [
        "for i, (input_idx, target_idx) in enumerate(zip(input_example[:5], target_example[:5])):\n",
        "    print('Step {:2d}'.format(i))\n",
        "    print('  input: {} ({:s})'.format(input_idx, repr(index2char[input_idx])))\n",
        "    print('  expected output: {} ({:s})'.format(target_idx, repr(index2char[target_idx])))"
      ],
      "execution_count": 18,
      "outputs": [
        {
          "output_type": "stream",
          "text": [
            "Step  0\n",
            "  input: 18 ('F')\n",
            "  expected output: 47 ('i')\n",
            "Step  1\n",
            "  input: 47 ('i')\n",
            "  expected output: 56 ('r')\n",
            "Step  2\n",
            "  input: 56 ('r')\n",
            "  expected output: 57 ('s')\n",
            "Step  3\n",
            "  input: 57 ('s')\n",
            "  expected output: 58 ('t')\n",
            "Step  4\n",
            "  input: 58 ('t')\n",
            "  expected output: 1 (' ')\n"
          ],
          "name": "stdout"
        }
      ]
    },
    {
      "cell_type": "markdown",
      "metadata": {
        "id": "yGHVlxdeXB0e",
        "colab_type": "text"
      },
      "source": [
        "Split training sequences into batches\n",
        "We used tf.data to split the text into manageable sequences. But before feeding this data into the model, we need to shuffle the data and pack it into batches."
      ]
    },
    {
      "cell_type": "code",
      "metadata": {
        "id": "Oc5oRc2eXFfj",
        "colab_type": "code",
        "colab": {
          "base_uri": "https://localhost:8080/",
          "height": 34
        },
        "outputId": "fbfb8a79-97a1-4918-bbb5-74f855eda03c"
      },
      "source": [
        "# Batch size.\n",
        "BATCH_SIZE = 64\n",
        "\n",
        "# Buffer size to shuffle the dataset (TF data is designed to work\n",
        "# with possibly infinite sequences, so it doesn't attempt to shuffle\n",
        "# the entire sequence in memory. Instead, it maintains a buffer in\n",
        "# which it shuffles elements).\n",
        "BUFFER_SIZE = 10000\n",
        "\n",
        "dataset = dataset.shuffle(BUFFER_SIZE).batch(BATCH_SIZE, drop_remainder=True)\n",
        "\n",
        "dataset"
      ],
      "execution_count": 19,
      "outputs": [
        {
          "output_type": "execute_result",
          "data": {
            "text/plain": [
              "<BatchDataset shapes: ((64, 100), (64, 100)), types: (tf.int64, tf.int64)>"
            ]
          },
          "metadata": {
            "tags": []
          },
          "execution_count": 19
        }
      ]
    },
    {
      "cell_type": "code",
      "metadata": {
        "id": "-RjbmhmTXM9l",
        "colab_type": "code",
        "colab": {
          "base_uri": "https://localhost:8080/",
          "height": 34
        },
        "outputId": "b3bb6359-79cb-4348-a72f-515539d93bc2"
      },
      "source": [
        "print('Batched dataset size: {}'.format(len(list(dataset.as_numpy_iterator()))))"
      ],
      "execution_count": 20,
      "outputs": [
        {
          "output_type": "stream",
          "text": [
            "Batched dataset size: 172\n"
          ],
          "name": "stdout"
        }
      ]
    },
    {
      "cell_type": "code",
      "metadata": {
        "id": "DT3G_RwvXRIf",
        "colab_type": "code",
        "colab": {
          "base_uri": "https://localhost:8080/",
          "height": 302
        },
        "outputId": "f408282d-14e9-4543-a9de-235e0dd354cd"
      },
      "source": [
        "for input_text, target_text in dataset.take(1):\n",
        "    print('1st batch: input_text:', input_text)\n",
        "    print()\n",
        "    print('1st batch: target_text:', target_text)"
      ],
      "execution_count": 21,
      "outputs": [
        {
          "output_type": "stream",
          "text": [
            "1st batch: input_text: tf.Tensor(\n",
            "[[53 59 52 ... 52 58 50]\n",
            " [ 1 58 63 ... 42 53 52]\n",
            " [ 1 39  1 ... 57 53 50]\n",
            " ...\n",
            " [43  1 57 ...  1 50 39]\n",
            " [56 41 46 ... 46 43  1]\n",
            " [53  1 39 ...  1 58 53]], shape=(64, 100), dtype=int64)\n",
            "\n",
            "1st batch: target_text: tf.Tensor(\n",
            "[[59 52 42 ... 58 50 43]\n",
            " [58 63 56 ... 53 52  1]\n",
            " [39  1 54 ... 53 50 59]\n",
            " ...\n",
            " [ 1 57 47 ... 50 39 51]\n",
            " [41 46  1 ... 43  1 40]\n",
            " [ 1 39  1 ... 58 53  1]], shape=(64, 100), dtype=int64)\n"
          ],
          "name": "stdout"
        }
      ]
    },
    {
      "cell_type": "markdown",
      "metadata": {
        "id": "0J45V7WWXYzp",
        "colab_type": "text"
      },
      "source": [
        "Build the model\n",
        "Use tf.keras.Sequential to define the model. For this simple example three layers are used to define our model:\n",
        "\n",
        "tf.keras.layers.Embedding: The input layer. A trainable lookup table that will map the numbers of each character to a vector with embedding_dim dimensions;\n",
        "tf.keras.layers.LSTM: A type of RNN with size units=rnn_units (You can also use a GRU layer here.)\n",
        "tf.keras.layers.Dense: The output layer, with vocab_size outputs."
      ]
    },
    {
      "cell_type": "code",
      "metadata": {
        "id": "p7k9-HqTXaPr",
        "colab_type": "code",
        "colab": {
          "base_uri": "https://localhost:8080/",
          "height": 420
        },
        "outputId": "74848a0b-2fd3-4ea5-db33-40245fa28f0a"
      },
      "source": [
        "# Let's do a quick detour and see how Embeding layer works.\n",
        "# It takes several char indices sequences (batch) as an input.\n",
        "# It encodes every character of every sequence to a vector of tmp_embeding_size length.\n",
        "tmp_vocab_size = 10\n",
        "tmp_embeding_size = 5\n",
        "tmp_input_length = 8\n",
        "tmp_batch_size = 2\n",
        "\n",
        "tmp_model = tf.keras.models.Sequential()\n",
        "tmp_model.add(tf.keras.layers.Embedding(\n",
        "  input_dim=tmp_vocab_size,\n",
        "  output_dim=tmp_embeding_size,\n",
        "  input_length=tmp_input_length\n",
        "))\n",
        "# The model will take as input an integer matrix of size (batch, input_length).\n",
        "# The largest integer (i.e. word index) in the input should be no larger than 9 (tmp_vocab_size).\n",
        "# Now model.output_shape == (None, 10, 64), where None is the batch dimension.\n",
        "tmp_input_array = np.random.randint(\n",
        "  low=0,\n",
        "  high=tmp_vocab_size,\n",
        "  size=(tmp_batch_size, tmp_input_length)\n",
        ")\n",
        "tmp_model.compile('rmsprop', 'mse')\n",
        "tmp_output_array = tmp_model.predict(tmp_input_array)\n",
        "\n",
        "print('tmp_input_array shape:', tmp_input_array.shape)\n",
        "print('tmp_input_array:')\n",
        "print(tmp_input_array)\n",
        "print()\n",
        "print('tmp_output_array shape:', tmp_output_array.shape)\n",
        "print('tmp_output_array:')\n",
        "print(tmp_output_array)"
      ],
      "execution_count": 22,
      "outputs": [
        {
          "output_type": "stream",
          "text": [
            "tmp_input_array shape: (2, 8)\n",
            "tmp_input_array:\n",
            "[[5 6 4 2 4 7 8 5]\n",
            " [8 8 6 4 2 1 8 0]]\n",
            "\n",
            "tmp_output_array shape: (2, 8, 5)\n",
            "tmp_output_array:\n",
            "[[[ 0.01283805 -0.04943254  0.02574417 -0.02327505 -0.01583002]\n",
            "  [-0.00676415  0.0462482   0.02446571 -0.03798606  0.04559894]\n",
            "  [ 0.01807721  0.03179767  0.01470784 -0.03351275  0.0318118 ]\n",
            "  [-0.03911901 -0.01544913  0.04707838  0.03865189  0.00768809]\n",
            "  [ 0.01807721  0.03179767  0.01470784 -0.03351275  0.0318118 ]\n",
            "  [-0.00266435  0.00316028 -0.0138932   0.04013342 -0.00900233]\n",
            "  [-0.04909462 -0.02572468  0.00489109  0.0310553   0.02181942]\n",
            "  [ 0.01283805 -0.04943254  0.02574417 -0.02327505 -0.01583002]]\n",
            "\n",
            " [[-0.04909462 -0.02572468  0.00489109  0.0310553   0.02181942]\n",
            "  [-0.04909462 -0.02572468  0.00489109  0.0310553   0.02181942]\n",
            "  [-0.00676415  0.0462482   0.02446571 -0.03798606  0.04559894]\n",
            "  [ 0.01807721  0.03179767  0.01470784 -0.03351275  0.0318118 ]\n",
            "  [-0.03911901 -0.01544913  0.04707838  0.03865189  0.00768809]\n",
            "  [-0.00983962 -0.03481568 -0.02932837  0.02626428 -0.04993044]\n",
            "  [-0.04909462 -0.02572468  0.00489109  0.0310553   0.02181942]\n",
            "  [ 0.01447064 -0.01489607  0.01884246 -0.0233044   0.03328413]]]\n"
          ],
          "name": "stdout"
        }
      ]
    },
    {
      "cell_type": "code",
      "metadata": {
        "id": "1L_xJI3BXhsR",
        "colab_type": "code",
        "colab": {}
      },
      "source": [
        "# Length of the vocabulary in chars.\n",
        "vocab_size = len(vocab)\n",
        "\n",
        "# The embedding dimension.\n",
        "embedding_dim = 256\n",
        "\n",
        "# Number of RNN units.\n",
        "rnn_units = 1024"
      ],
      "execution_count": 23,
      "outputs": []
    },
    {
      "cell_type": "code",
      "metadata": {
        "id": "oV9GV46vXkI_",
        "colab_type": "code",
        "colab": {}
      },
      "source": [
        "def build_model(vocab_size, embedding_dim, rnn_units, batch_size):\n",
        "    model = tf.keras.models.Sequential()\n",
        "\n",
        "    model.add(tf.keras.layers.Embedding(\n",
        "      input_dim=vocab_size,\n",
        "      output_dim=embedding_dim,\n",
        "      batch_input_shape=[batch_size, None]\n",
        "    ))\n",
        "\n",
        "    model.add(tf.keras.layers.LSTM(\n",
        "      units=rnn_units,\n",
        "      return_sequences=True,\n",
        "      stateful=True,\n",
        "      recurrent_initializer=tf.keras.initializers.GlorotNormal()\n",
        "    ))\n",
        "\n",
        "    model.add(tf.keras.layers.Dense(vocab_size))\n",
        "  \n",
        "    return model"
      ],
      "execution_count": 24,
      "outputs": []
    },
    {
      "cell_type": "code",
      "metadata": {
        "id": "ZWLfTRCyXmsv",
        "colab_type": "code",
        "colab": {}
      },
      "source": [
        "model = build_model(vocab_size, embedding_dim, rnn_units, BATCH_SIZE)"
      ],
      "execution_count": 25,
      "outputs": []
    },
    {
      "cell_type": "code",
      "metadata": {
        "id": "RgmzrQe3XpAF",
        "colab_type": "code",
        "colab": {
          "base_uri": "https://localhost:8080/",
          "height": 252
        },
        "outputId": "ca453de6-f259-47e0-bc8a-121a3efa693e"
      },
      "source": [
        "model.summary()"
      ],
      "execution_count": 26,
      "outputs": [
        {
          "output_type": "stream",
          "text": [
            "Model: \"sequential_1\"\n",
            "_________________________________________________________________\n",
            "Layer (type)                 Output Shape              Param #   \n",
            "=================================================================\n",
            "embedding_1 (Embedding)      (64, None, 256)           16640     \n",
            "_________________________________________________________________\n",
            "lstm (LSTM)                  (64, None, 1024)          5246976   \n",
            "_________________________________________________________________\n",
            "dense (Dense)                (64, None, 65)            66625     \n",
            "=================================================================\n",
            "Total params: 5,330,241\n",
            "Trainable params: 5,330,241\n",
            "Non-trainable params: 0\n",
            "_________________________________________________________________\n"
          ],
          "name": "stdout"
        }
      ]
    },
    {
      "cell_type": "code",
      "metadata": {
        "id": "rs2XbCxWXsq7",
        "colab_type": "code",
        "colab": {
          "base_uri": "https://localhost:8080/",
          "height": 422
        },
        "outputId": "afc0a6b5-ed41-4ada-fe50-130809ced914"
      },
      "source": [
        "tf.keras.utils.plot_model(\n",
        "    model,\n",
        "    show_shapes=True,\n",
        "    show_layer_names=True,\n",
        ")"
      ],
      "execution_count": 27,
      "outputs": [
        {
          "output_type": "execute_result",
          "data": {
            "image/png": "[encoded data removed]",
            "text/plain": [
              "<IPython.core.display.Image object>"
            ]
          },
          "metadata": {
            "tags": []
          },
          "execution_count": 27
        }
      ]
    },
    {
      "cell_type": "markdown",
      "metadata": {
        "id": "jSjH7p4ZYlCx",
        "colab_type": "text"
      },
      "source": [
        "Try the model"
      ]
    },
    {
      "cell_type": "code",
      "metadata": {
        "id": "bkvZAS3aXxuC",
        "colab_type": "code",
        "colab": {
          "base_uri": "https://localhost:8080/",
          "height": 34
        },
        "outputId": "4f1a3145-c9d4-466a-b400-41fd0d6674fd"
      },
      "source": [
        "for input_example_batch, target_example_batch in dataset.take(1):\n",
        "    example_batch_predictions = model(input_example_batch)\n",
        "    print(example_batch_predictions.shape, \"# (batch_size, sequence_length, vocab_size)\")\n"
      ],
      "execution_count": 28,
      "outputs": [
        {
          "output_type": "stream",
          "text": [
            "(64, 100, 65) # (batch_size, sequence_length, vocab_size)\n"
          ],
          "name": "stdout"
        }
      ]
    },
    {
      "cell_type": "markdown",
      "metadata": {
        "id": "Xhq_JA0_YnPj",
        "colab_type": "text"
      },
      "source": [
        "To get actual predictions from the model we need to sample from the output distribution, to get actual character indices. This distribution is defined by the logits over the character vocabulary."
      ]
    },
    {
      "cell_type": "code",
      "metadata": {
        "id": "zrf8BkWdYCCr",
        "colab_type": "code",
        "colab": {
          "base_uri": "https://localhost:8080/",
          "height": 235
        },
        "outputId": "6af36063-ff47-4599-beec-d6eebbe09203"
      },
      "source": [
        "print('Prediction for the 1st letter of the batch 1st sequense:')\n",
        "print(example_batch_predictions[0, 0])"
      ],
      "execution_count": 29,
      "outputs": [
        {
          "output_type": "stream",
          "text": [
            "Prediction for the 1st letter of the batch 1st sequense:\n",
            "tf.Tensor(\n",
            "[ 0.00217452 -0.00310985  0.00661094 -0.00478581 -0.00044937 -0.00144599\n",
            "  0.0064938   0.00361238 -0.00220897  0.00386962  0.0007634   0.00061258\n",
            "  0.00025081  0.00046291 -0.00125895 -0.00319838 -0.00536989 -0.00711295\n",
            " -0.00158446  0.00148223 -0.0077138   0.00277157  0.00144291  0.0011172\n",
            "  0.0013781   0.0059966  -0.00217291  0.00323616 -0.00659874  0.00208185\n",
            " -0.00042071 -0.00072833  0.0062802  -0.00082873 -0.00075093  0.00448762\n",
            "  0.00368958  0.00119565 -0.00504404 -0.00533272  0.00117605 -0.00252115\n",
            " -0.00061579 -0.00036399 -0.00028533 -0.00365689  0.00106547  0.00460416\n",
            "  0.00531025 -0.00161927  0.00031362  0.00242485  0.00106432  0.0029447\n",
            "  0.00355659 -0.00453993 -0.00059019  0.00227674 -0.00064165  0.00495461\n",
            "  0.00395488 -0.0024426  -0.00236988 -0.00088797  0.0005678 ], shape=(65,), dtype=float32)\n"
          ],
          "name": "stdout"
        }
      ]
    },
    {
      "cell_type": "code",
      "metadata": {
        "id": "iwdtCJ6GYreA",
        "colab_type": "code",
        "colab": {
          "base_uri": "https://localhost:8080/",
          "height": 34
        },
        "outputId": "aa67e06a-d177-4906-a885-f70d328122d6"
      },
      "source": [
        "# Quick overview of how tf.random.categorical() works.\n",
        "\n",
        "# logits is 2-D Tensor with shape [batch_size, num_classes].\n",
        "# Each slice [i, :] represents the unnormalized log-probabilities for all classes.\n",
        "# In the example below we say that the probability for class \"0\" is low but the\n",
        "# probability for class \"2\" is much higher.\n",
        "tmp_logits = [\n",
        "  [-0.95, 0, 0.95],\n",
        "];\n",
        "\n",
        "# Let's generate 5 samples. Each sample is a class index. Class probabilities \n",
        "# are being taken into account (we expect to see more samples of class \"2\").\n",
        "tmp_samples = tf.random.categorical(\n",
        "    logits=tmp_logits,\n",
        "    num_samples=5\n",
        ")\n",
        "\n",
        "print(tmp_samples)"
      ],
      "execution_count": 30,
      "outputs": [
        {
          "output_type": "stream",
          "text": [
            "tf.Tensor([[2 2 0 2 1]], shape=(1, 5), dtype=int64)\n"
          ],
          "name": "stdout"
        }
      ]
    },
    {
      "cell_type": "code",
      "metadata": {
        "id": "HJ-RSYh3Yu3R",
        "colab_type": "code",
        "colab": {
          "base_uri": "https://localhost:8080/",
          "height": 34
        },
        "outputId": "8b547cb7-b7be-4a13-91f1-c6b420573f8e"
      },
      "source": [
        "sampled_indices = tf.random.categorical(\n",
        "    logits=example_batch_predictions[0],\n",
        "    num_samples=1\n",
        ")\n",
        "\n",
        "sampled_indices.shape"
      ],
      "execution_count": 31,
      "outputs": [
        {
          "output_type": "execute_result",
          "data": {
            "text/plain": [
              "TensorShape([100, 1])"
            ]
          },
          "metadata": {
            "tags": []
          },
          "execution_count": 31
        }
      ]
    },
    {
      "cell_type": "code",
      "metadata": {
        "id": "xaFsWFmzY5IL",
        "colab_type": "code",
        "colab": {
          "base_uri": "https://localhost:8080/",
          "height": 34
        },
        "outputId": "198486e3-d93e-4d5b-e883-480dd448fd1c"
      },
      "source": [
        "sampled_indices = tf.squeeze(\n",
        "    input=sampled_indices,\n",
        "    axis=-1\n",
        ").numpy()\n",
        "\n",
        "sampled_indices.shape"
      ],
      "execution_count": 32,
      "outputs": [
        {
          "output_type": "execute_result",
          "data": {
            "text/plain": [
              "(100,)"
            ]
          },
          "metadata": {
            "tags": []
          },
          "execution_count": 32
        }
      ]
    },
    {
      "cell_type": "code",
      "metadata": {
        "id": "qRnEznqtZJZh",
        "colab_type": "code",
        "colab": {
          "base_uri": "https://localhost:8080/",
          "height": 118
        },
        "outputId": "4058f71c-4a97-45a1-f2e9-c0be1811fe7d"
      },
      "source": [
        "sampled_indices"
      ],
      "execution_count": 33,
      "outputs": [
        {
          "output_type": "execute_result",
          "data": {
            "text/plain": [
              "array([57, 50, 55, 33, 15, 17, 62, 42, 16, 16, 44, 48, 18,  3,  5, 56, 46,\n",
              "       12, 19,  1, 55, 17, 22,  7, 61,  4, 46, 29, 32,  5, 64, 57, 51, 63,\n",
              "       62, 24,  6, 59, 46, 21, 60, 51, 14, 19,  3, 58, 30, 43,  3, 61, 15,\n",
              "       63, 46, 35, 25,  6, 49, 23, 31, 42, 38, 25, 57, 59, 53, 43, 35, 25,\n",
              "       51, 34, 57,  0, 20,  3,  3, 21, 13, 38, 26, 59, 30, 54, 54, 64, 17,\n",
              "       28, 40, 41, 44, 33, 18, 46,  1, 43, 47, 15, 21, 34, 21, 45])"
            ]
          },
          "metadata": {
            "tags": []
          },
          "execution_count": 33
        }
      ]
    },
    {
      "cell_type": "code",
      "metadata": {
        "id": "N00lC3iwZNzj",
        "colab_type": "code",
        "colab": {
          "base_uri": "https://localhost:8080/",
          "height": 101
        },
        "outputId": "a0796160-2466-4720-bb71-282e58af989d"
      },
      "source": [
        "print('Input:\\n', repr(''.join(index2char[input_example_batch[0]])))\n",
        "print()\n",
        "print('Next char prediction:\\n', repr(''.join(index2char[sampled_indices])))"
      ],
      "execution_count": 34,
      "outputs": [
        {
          "output_type": "stream",
          "text": [
            "Input:\n",
            " \"s part\\nPerform'd in this wide gap of time since first\\nWe were dissever'd: hastily lead away.\\n\\nDUKE V\"\n",
            "\n",
            "Next char prediction:\n",
            " \"slqUCExdDDfjF$'rh?G qEJ-w&hQT'zsmyxL,uhIvmBG$tRe$wCyhWM,kKSdZMsuoeWMmVs\\nH$$IAZNuRppzEPbcfUFh eiCIVIg\"\n"
          ],
          "name": "stdout"
        }
      ]
    },
    {
      "cell_type": "code",
      "metadata": {
        "id": "N_xt0-8EZQOq",
        "colab_type": "code",
        "colab": {
          "base_uri": "https://localhost:8080/",
          "height": 269
        },
        "outputId": "c105e076-3361-4927-9c10-295edb4599a9"
      },
      "source": [
        "for i, (input_idx, sample_idx) in enumerate(zip(input_example_batch[0][:5], sampled_indices[:5])):\n",
        "    print('Prediction {:2d}'.format(i))\n",
        "    print('  input: {} ({:s})'.format(input_idx, repr(index2char[input_idx])))\n",
        "    print('  next predicted: {} ({:s})'.format(target_idx, repr(index2char[sample_idx])))"
      ],
      "execution_count": 35,
      "outputs": [
        {
          "output_type": "stream",
          "text": [
            "Prediction  0\n",
            "  input: 57 ('s')\n",
            "  next predicted: 1 ('s')\n",
            "Prediction  1\n",
            "  input: 1 (' ')\n",
            "  next predicted: 1 ('l')\n",
            "Prediction  2\n",
            "  input: 54 ('p')\n",
            "  next predicted: 1 ('q')\n",
            "Prediction  3\n",
            "  input: 39 ('a')\n",
            "  next predicted: 1 ('U')\n",
            "Prediction  4\n",
            "  input: 56 ('r')\n",
            "  next predicted: 1 ('C')\n"
          ],
          "name": "stdout"
        }
      ]
    },
    {
      "cell_type": "markdown",
      "metadata": {
        "id": "0devsiaBZThA",
        "colab_type": "text"
      },
      "source": [
        "Train the model\n",
        "At this point the problem can be treated as a standard classification problem. Given the previous RNN state, and the input this time step, predict the class of the next character.\n",
        "\n",
        "Attach an optimizer, and a loss function"
      ]
    },
    {
      "cell_type": "code",
      "metadata": {
        "id": "zpANJEdxZUi9",
        "colab_type": "code",
        "colab": {
          "base_uri": "https://localhost:8080/",
          "height": 50
        },
        "outputId": "43b54ca7-9646-44f4-df07-f280445697fc"
      },
      "source": [
        "# An objective function.\n",
        "# The function is any callable with the signature scalar_loss = fn(y_true, y_pred).\n",
        "def loss(labels, logits):\n",
        "    return tf.keras.losses.sparse_categorical_crossentropy(\n",
        "      y_true=labels,\n",
        "      y_pred=logits,\n",
        "      from_logits=True\n",
        "    )\n",
        "\n",
        "example_batch_loss = loss(target_example_batch, example_batch_predictions)\n",
        "\n",
        "print(\"Prediction shape: \", example_batch_predictions.shape, \" # (batch_size, sequence_length, vocab_size)\")\n",
        "print(\"scalar_loss:      \", example_batch_loss.numpy().mean())"
      ],
      "execution_count": 36,
      "outputs": [
        {
          "output_type": "stream",
          "text": [
            "Prediction shape:  (64, 100, 65)  # (batch_size, sequence_length, vocab_size)\n",
            "scalar_loss:       4.1736574\n"
          ],
          "name": "stdout"
        }
      ]
    },
    {
      "cell_type": "code",
      "metadata": {
        "id": "S8maxKsDZXSV",
        "colab_type": "code",
        "colab": {}
      },
      "source": [
        "adam_optimizer = tf.keras.optimizers.Adam(learning_rate=0.001)\n",
        "model.compile(\n",
        "    optimizer=adam_optimizer,\n",
        "    loss=loss\n",
        ")"
      ],
      "execution_count": 37,
      "outputs": []
    },
    {
      "cell_type": "markdown",
      "metadata": {
        "id": "b3R8iDA0ZbFq",
        "colab_type": "text"
      },
      "source": [
        "Configure checkpoints"
      ]
    },
    {
      "cell_type": "code",
      "metadata": {
        "id": "LhfYLdlAZbdr",
        "colab_type": "code",
        "colab": {}
      },
      "source": [
        "# Directory where the checkpoints will be saved.\n",
        "checkpoint_dir = 'tmp/checkpoints'\n",
        "os.makedirs(checkpoint_dir, exist_ok=True)\n",
        "\n",
        "# Name of the checkpoint files\n",
        "checkpoint_prefix = os.path.join(checkpoint_dir, 'ckpt_{epoch}')\n",
        "\n",
        "checkpoint_callback=tf.keras.callbacks.ModelCheckpoint(\n",
        "    filepath=checkpoint_prefix,\n",
        "    save_weights_only=True\n",
        ")"
      ],
      "execution_count": 38,
      "outputs": []
    },
    {
      "cell_type": "markdown",
      "metadata": {
        "id": "xbIGYV5PZhh8",
        "colab_type": "text"
      },
      "source": [
        "Execute the training"
      ]
    },
    {
      "cell_type": "code",
      "metadata": {
        "id": "sNxBbXyRZjem",
        "colab_type": "code",
        "colab": {}
      },
      "source": [
        "EPOCHS=30"
      ],
      "execution_count": 41,
      "outputs": []
    },
    {
      "cell_type": "code",
      "metadata": {
        "id": "IgDlA3lBZlUg",
        "colab_type": "code",
        "colab": {
          "base_uri": "https://localhost:8080/",
          "height": 1000
        },
        "outputId": "07255597-27bb-4748-e42e-4375a0338344"
      },
      "source": [
        "history = model.fit(\n",
        "  x=dataset,\n",
        "  epochs=EPOCHS,\n",
        "  callbacks=[\n",
        "    checkpoint_callback\n",
        "  ]\n",
        ")"
      ],
      "execution_count": 42,
      "outputs": [
        {
          "output_type": "stream",
          "text": [
            "Epoch 1/30\n",
            "172/172 [==============================] - 1137s 7s/step - loss: 2.6030\n",
            "Epoch 2/30\n",
            "172/172 [==============================] - 1139s 7s/step - loss: 1.8850\n",
            "Epoch 3/30\n",
            "172/172 [==============================] - 1132s 7s/step - loss: 1.6380\n",
            "Epoch 4/30\n",
            "172/172 [==============================] - 1127s 7s/step - loss: 1.5067\n",
            "Epoch 5/30\n",
            "172/172 [==============================] - 1136s 7s/step - loss: 1.4279\n",
            "Epoch 6/30\n",
            "172/172 [==============================] - 1130s 7s/step - loss: 1.3711\n",
            "Epoch 7/30\n",
            "172/172 [==============================] - 1125s 7s/step - loss: 1.3276\n",
            "Epoch 8/30\n",
            "172/172 [==============================] - 1123s 7s/step - loss: 1.2901\n",
            "Epoch 9/30\n",
            "172/172 [==============================] - 1128s 7s/step - loss: 1.2556\n",
            "Epoch 10/30\n",
            "172/172 [==============================] - 1128s 7s/step - loss: 1.2211\n",
            "Epoch 11/30\n",
            "172/172 [==============================] - 1129s 7s/step - loss: 1.1883\n",
            "Epoch 12/30\n",
            "172/172 [==============================] - 1137s 7s/step - loss: 1.1540\n",
            "Epoch 13/30\n",
            "172/172 [==============================] - 1132s 7s/step - loss: 1.1187\n",
            "Epoch 14/30\n",
            "172/172 [==============================] - 1131s 7s/step - loss: 1.0819\n",
            "Epoch 15/30\n",
            "172/172 [==============================] - 1131s 7s/step - loss: 1.0448\n",
            "Epoch 16/30\n",
            "172/172 [==============================] - 1132s 7s/step - loss: 1.0049\n",
            "Epoch 17/30\n",
            "172/172 [==============================] - 1141s 7s/step - loss: 0.9662\n",
            "Epoch 18/30\n",
            "172/172 [==============================] - 1138s 7s/step - loss: 0.9267\n",
            "Epoch 19/30\n",
            "172/172 [==============================] - 1130s 7s/step - loss: 0.8870\n",
            "Epoch 20/30\n",
            "172/172 [==============================] - 1131s 7s/step - loss: 0.8493\n",
            "Epoch 21/30\n",
            "172/172 [==============================] - 1136s 7s/step - loss: 0.8132\n",
            "Epoch 22/30\n",
            "172/172 [==============================] - 1143s 7s/step - loss: 0.7789\n",
            "Epoch 23/30\n",
            "172/172 [==============================] - 1149s 7s/step - loss: 0.7454\n",
            "Epoch 24/30\n",
            "172/172 [==============================] - 1141s 7s/step - loss: 0.7166\n",
            "Epoch 25/30\n",
            "172/172 [==============================] - 1142s 7s/step - loss: 0.6879\n",
            "Epoch 26/30\n",
            "172/172 [==============================] - 1134s 7s/step - loss: 0.6641\n",
            "Epoch 27/30\n",
            "172/172 [==============================] - 1133s 7s/step - loss: 0.6398\n",
            "Epoch 28/30\n",
            "172/172 [==============================] - 1138s 7s/step - loss: 0.6189\n",
            "Epoch 29/30\n",
            "172/172 [==============================] - 1134s 7s/step - loss: 0.6014\n",
            "Epoch 30/30\n",
            "172/172 [==============================] - 1132s 7s/step - loss: 0.5829\n"
          ],
          "name": "stdout"
        }
      ]
    },
    {
      "cell_type": "code",
      "metadata": {
        "id": "oD_Vc-qWZqm7",
        "colab_type": "code",
        "colab": {}
      },
      "source": [
        "def get_training_history(training_history):\n",
        "    loss = training_history.history['loss']\n",
        "    plt.title('Loss')\n",
        "    plt.xlabel('Epoch')\n",
        "    plt.ylabel('Loss')\n",
        "    plt.plot(loss, label='Training set')\n",
        "    plt.legend()\n",
        "    plt.grid(linestyle='--', linewidth=1, alpha=0.5)\n",
        "    plt.show()"
      ],
      "execution_count": 43,
      "outputs": []
    },
    {
      "cell_type": "code",
      "metadata": {
        "id": "scYoel44Zq4H",
        "colab_type": "code",
        "colab": {
          "base_uri": "https://localhost:8080/",
          "height": 295
        },
        "outputId": "2b1b29d5-3dd5-444e-a3e3-663352fff959"
      },
      "source": [
        "get_training_history(history)"
      ],
      "execution_count": 44,
      "outputs": [
        {
          "output_type": "display_data",
          "data": {
            "image/png": "[encoded data removed]",
            "text/plain": [
              "<Figure size 432x288 with 1 Axes>"
            ]
          },
          "metadata": {
            "tags": [],
            "needs_background": "light"
          }
        }
      ]
    },
    {
      "cell_type": "code",
      "metadata": {
        "id": "NfjsioPnl6Oz",
        "colab_type": "code",
        "colab": {}
      },
      "source": [
        "model_name = 'text_gen_using_rnn.h5'\n",
        "model.save(model_name, save_format='h5')"
      ],
      "execution_count": 45,
      "outputs": []
    }
  ]
}